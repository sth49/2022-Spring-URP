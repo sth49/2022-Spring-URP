{
 "cells": [
  {
   "cell_type": "code",
   "execution_count": 1,
   "metadata": {
    "ExecuteTime": {
     "end_time": "2022-05-31T11:08:54.878546Z",
     "start_time": "2022-05-31T11:08:53.577421Z"
    },
    "colab": {},
    "colab_type": "code",
    "id": "p8PYaovndxOy"
   },
   "outputs": [],
   "source": [
    "from __future__ import print_function\n",
    "import matplotlib.pyplot as plt\n",
    "import matplotlib.gridspec as gridspec\n",
    "import torch\n",
    "import torch.utils.data\n",
    "from torch import nn, optim\n",
    "from torch.autograd import Variable\n",
    "from torch.nn import functional as F\n",
    "from torchvision import datasets, transforms\n",
    "from torchvision.utils import save_image\n",
    "from PIL import Image\n",
    "import numpy as np\n",
    "%matplotlib inline\n",
    "import matplotlib.pyplot as plt\n",
    "import torch\n",
    "from torch import nn\n",
    "from torch import optim\n",
    "from torchvision import datasets,transforms\n",
    "import torch.nn.functional as F\n",
    "import cv2\n",
    "from torch.utils.data import Dataset, DataLoader\n",
    "import os\n",
    "from PIL import Image\n",
    "import numpy as np"
   ]
  },
  {
   "cell_type": "code",
   "execution_count": 0,
   "metadata": {
    "colab": {},
    "colab_type": "code",
    "id": "NEgK34apgDfo"
   },
   "outputs": [],
   "source": [
    "!unzip chest-xray-pneumonia.zip"
   ]
  },
  {
   "cell_type": "code",
   "execution_count": 5,
   "metadata": {
    "ExecuteTime": {
     "end_time": "2022-05-31T11:12:20.096292Z",
     "start_time": "2022-05-31T11:12:20.077101Z"
    },
    "colab": {},
    "colab_type": "code",
    "id": "iXbkAltps4za"
   },
   "outputs": [],
   "source": [
    "import os\n",
    "os.environ[\"CUDA_VISIBLE_DEVICES\"] =\"1,2\"\n",
    "imagefiles=[]\n",
    "labels=[]\n",
    "for folder in os.listdir('./chest_xray/train'):\n",
    "    path=os.path.join('./chest_xray/train',folder)\n",
    "    for images in os.listdir(path):\n",
    "        imagefiles.append(os.path.join(path,images))\n",
    "        labels.append(folder)\n",
    "testimages=[]\n",
    "testlabel=[]\n",
    "for folder in os.listdir('./chest_xray/test'):\n",
    "    path=os.path.join('./chest_xray/test',folder)\n",
    "    for images in os.listdir(path):\n",
    "        testimages.append(os.path.join(path,images))\n",
    "        testlabel.append(folder)\n",
    "enc={}\n",
    "for i,label in enumerate(os.listdir('./chest_xray/train')):\n",
    "    enc[label]=i"
   ]
  },
  {
   "cell_type": "code",
   "execution_count": 4,
   "metadata": {
    "ExecuteTime": {
     "end_time": "2022-05-31T11:12:21.412696Z",
     "start_time": "2022-05-31T11:12:21.398733Z"
    },
    "colab": {},
    "colab_type": "code",
    "id": "2NjF3OWIwIbf"
   },
   "outputs": [
    {
     "data": {
      "text/plain": [
       "['NORMAL',\n",
       " 'NORMAL',\n",
       " 'NORMAL',\n",
       " 'NORMAL',\n",
       " 'NORMAL',\n",
       " 'NORMAL',\n",
       " 'NORMAL',\n",
       " 'NORMAL',\n",
       " 'NORMAL',\n",
       " 'NORMAL']"
      ]
     },
     "execution_count": 4,
     "metadata": {},
     "output_type": "execute_result"
    }
   ],
   "source": [
    "labels[:10]"
   ]
  },
  {
   "cell_type": "code",
   "execution_count": 6,
   "metadata": {
    "ExecuteTime": {
     "end_time": "2022-05-31T11:12:42.411928Z",
     "start_time": "2022-05-31T11:12:42.395408Z"
    },
    "colab": {},
    "colab_type": "code",
    "id": "gCYClVxEs7tM"
   },
   "outputs": [],
   "source": [
    "class Data(Dataset):\n",
    "    def __init__(self,imagefiles,labels,testimages,testlabel,mode,enc=None,transform=None):\n",
    "        self.imagefiles=imagefiles\n",
    "        self.labels=labels\n",
    "        self.testimages=testimages\n",
    "        self.testlabel=testlabel\n",
    "        self.mode=mode\n",
    "        self.transform=transform\n",
    "        self.enc=enc\n",
    "    def __getitem__(self,idx):\n",
    "        if self.mode=='train':\n",
    "            image=Image.open(self.imagefiles[idx])\n",
    "            image=np.asarray(image)\n",
    "            image=torch.from_numpy(image)\n",
    "            label=self.labels[idx]\n",
    "            if self.transform:\n",
    "                image=self.transform(image)\n",
    "            return image,enc[label]\n",
    "        if self.mode=='test':\n",
    "            image=Image.open(self.testimages[idx])\n",
    "            image=np.asarray(image)\n",
    "            image=torch.from_numpy(image)\n",
    "            label=self.testlabel[idx]\n",
    "            if self.transform:\n",
    "                image=self.transform(image)\n",
    "            return image,enc[label]\n",
    "    def __len__(self):\n",
    "        if self.mode=='train':\n",
    "            return len(self.imagefiles)\n",
    "        if self.mode=='test':\n",
    "            return len(self.testimages)"
   ]
  },
  {
   "cell_type": "code",
   "execution_count": 7,
   "metadata": {
    "ExecuteTime": {
     "end_time": "2022-05-31T11:12:43.049654Z",
     "start_time": "2022-05-31T11:12:43.040889Z"
    },
    "colab": {},
    "colab_type": "code",
    "id": "SpJcKJZAs-3J"
   },
   "outputs": [],
   "source": [
    "transform=transforms.Compose([\n",
    "                              transforms.ToPILImage(),\n",
    "                              transforms.Grayscale(num_output_channels=1),\n",
    "                              transforms.Resize((100,100)),\n",
    "                              transforms.RandomHorizontalFlip(p=0.5),\n",
    "                              transforms.ToTensor(),\n",
    "                              transforms.Normalize((0.5,),(0.5,))\n",
    "])"
   ]
  },
  {
   "cell_type": "code",
   "execution_count": 8,
   "metadata": {
    "ExecuteTime": {
     "end_time": "2022-05-31T11:12:43.562196Z",
     "start_time": "2022-05-31T11:12:43.556438Z"
    },
    "colab": {},
    "colab_type": "code",
    "id": "B-5wCVAktBwZ"
   },
   "outputs": [],
   "source": [
    "mode1='train'\n",
    "trainset=Data(imagefiles,labels,testimages,testlabel,mode1,enc,transform)"
   ]
  },
  {
   "cell_type": "code",
   "execution_count": 9,
   "metadata": {
    "ExecuteTime": {
     "end_time": "2022-05-31T11:12:44.083262Z",
     "start_time": "2022-05-31T11:12:44.076485Z"
    },
    "colab": {},
    "colab_type": "code",
    "id": "iuR3Bp_ltEG-"
   },
   "outputs": [],
   "source": [
    "trainloader=torch.utils.data.DataLoader(trainset,batch_size=5,shuffle=True)"
   ]
  },
  {
   "cell_type": "code",
   "execution_count": 10,
   "metadata": {
    "ExecuteTime": {
     "end_time": "2022-05-31T11:13:02.443109Z",
     "start_time": "2022-05-31T11:13:02.168866Z"
    },
    "colab": {
     "base_uri": "https://localhost:8080/",
     "height": 154
    },
    "colab_type": "code",
    "id": "LpT4ZYfFjDOQ",
    "outputId": "56e3044f-9f0a-4956-cc46-033fc53d34e2"
   },
   "outputs": [
    {
     "name": "stdout",
     "output_type": "stream",
     "text": [
      "torch.Size([5])\n"
     ]
    },
    {
     "data": {
      "text/plain": [
       "torch.Size([5, 1, 100, 100])"
      ]
     },
     "execution_count": 10,
     "metadata": {},
     "output_type": "execute_result"
    },
    {
     "data": {
      "image/png": "[encoded data removed]",
      "text/plain": [
       "<Figure size 432x288 with 1 Axes>"
      ]
     },
     "metadata": {
      "needs_background": "light"
     },
     "output_type": "display_data"
    }
   ],
   "source": [
    "import torchvision\n",
    "def imshow(img):\n",
    "    img = img / 2 + 0.5\n",
    "    npimg = img.numpy()\n",
    "    plt.imshow(np.transpose(npimg, (1,2,0)))\n",
    "import matplotlib.pyplot as plt\n",
    "img,lab=next(iter(trainloader))\n",
    "x=torchvision.utils.make_grid(img)\n",
    "imshow(x)\n",
    "print(lab.shape)\n",
    "img.shape"
   ]
  },
  {
   "cell_type": "code",
   "execution_count": 11,
   "metadata": {
    "ExecuteTime": {
     "end_time": "2022-05-31T11:13:10.370151Z",
     "start_time": "2022-05-31T11:13:10.362915Z"
    },
    "colab": {},
    "colab_type": "code",
    "id": "GVH76xtf13It"
   },
   "outputs": [],
   "source": [
    "mode2='test'\n",
    "testset=Data(imagefiles,labels,testimages,testlabel,mode2,enc,transform)\n",
    "testloader=torch.utils.data.DataLoader(testset,batch_size=5,shuffle=False)"
   ]
  },
  {
   "cell_type": "code",
   "execution_count": 12,
   "metadata": {
    "ExecuteTime": {
     "end_time": "2022-05-31T11:13:15.822746Z",
     "start_time": "2022-05-31T11:13:15.586555Z"
    },
    "colab": {
     "base_uri": "https://localhost:8080/",
     "height": 154
    },
    "colab_type": "code",
    "id": "VltCl4PaNYR9",
    "outputId": "819393eb-ca01-4cea-a7d2-8eac6b7e4af6"
   },
   "outputs": [
    {
     "name": "stdout",
     "output_type": "stream",
     "text": [
      "torch.Size([5])\n"
     ]
    },
    {
     "data": {
      "text/plain": [
       "torch.Size([5, 1, 100, 100])"
      ]
     },
     "execution_count": 12,
     "metadata": {},
     "output_type": "execute_result"
    },
    {
     "data": {
      "image/png": "[encoded data removed]",
      "text/plain": [
       "<Figure size 432x288 with 1 Axes>"
      ]
     },
     "metadata": {
      "needs_background": "light"
     },
     "output_type": "display_data"
    }
   ],
   "source": [
    "import torchvision\n",
    "def imshow(img):\n",
    "    img = img / 2 + 0.5\n",
    "    npimg = img.numpy()\n",
    "    plt.imshow(np.transpose(npimg, (1,2,0)))\n",
    "import matplotlib.pyplot as plt\n",
    "img,lab=next(iter(testloader))\n",
    "x=torchvision.utils.make_grid(img)\n",
    "imshow(x)\n",
    "print(lab.shape)\n",
    "img.shape"
   ]
  },
  {
   "cell_type": "code",
   "execution_count": 13,
   "metadata": {
    "ExecuteTime": {
     "end_time": "2022-05-31T11:13:16.406274Z",
     "start_time": "2022-05-31T11:13:16.396182Z"
    },
    "colab": {},
    "colab_type": "code",
    "id": "2LGO3EZoRJPr"
   },
   "outputs": [],
   "source": [
    "class Encoder(nn.Module):\n",
    "        ''' This the encoder part of VAE\n",
    "\n",
    "        '''\n",
    "        def __init__(self, input_dim, hidden_dim, z_dim):\n",
    "            '''\n",
    "            Args:\n",
    "                input_dim: A integer indicating the size of input (in case of MNIST 28 * 28).\n",
    "                hidden_dim: A integer indicating the size of hidden dimension.\n",
    "                z_dim: A integer indicating the latent dimension.\n",
    "            '''\n",
    "            super().__init__()\n",
    "\n",
    "            self.linear = nn.Linear(input_dim, hidden_dim)\n",
    "            self.mu = nn.Linear(hidden_dim, z_dim)\n",
    "            self.var = nn.Linear(hidden_dim, z_dim)\n",
    "\n",
    "        def forward(self, x):\n",
    "            # x is of shape [batch_size, input_dim]\n",
    "\n",
    "            hidden = F.relu(self.linear(x))\n",
    "            # hidden is of shape [batch_size, hidden_dim]\n",
    "            z_mu = self.mu(hidden)\n",
    "            # z_mu is of shape [batch_size, latent_dim]\n",
    "            z_var = self.var(hidden)\n",
    "            # z_var is of shape [batch_size, latent_dim]\n",
    "\n",
    "            return z_mu, z_var"
   ]
  },
  {
   "cell_type": "code",
   "execution_count": 14,
   "metadata": {
    "ExecuteTime": {
     "end_time": "2022-05-31T11:13:17.728288Z",
     "start_time": "2022-05-31T11:13:17.716771Z"
    },
    "colab": {},
    "colab_type": "code",
    "id": "iJSyajC6RS7e"
   },
   "outputs": [],
   "source": [
    "class Decoder(nn.Module):\n",
    "        ''' This the decoder part of VAE\n",
    "\n",
    "        '''\n",
    "        def __init__(self, z_dim, hidden_dim, output_dim):\n",
    "            '''\n",
    "            Args:\n",
    "                z_dim: A integer indicating the latent size.\n",
    "                hidden_dim: A integer indicating the size of hidden dimension.\n",
    "                output_dim: A integer indicating the output dimension (in case of MNIST it is 28 * 28)\n",
    "            '''\n",
    "            super().__init__()\n",
    "\n",
    "            self.linear = nn.Linear(z_dim, hidden_dim)\n",
    "            self.out = nn.Linear(hidden_dim, output_dim)\n",
    "\n",
    "        def forward(self, x):\n",
    "            # x is of shape [batch_size, latent_dim]\n",
    "\n",
    "            hidden = F.relu(self.linear(x))\n",
    "            # hidden is of shape [batch_size, hidden_dim]\n",
    "\n",
    "            predicted = torch.sigmoid(self.out(hidden))\n",
    "            # predicted is of shape [batch_size, output_dim]\n",
    "\n",
    "            return predicted"
   ]
  },
  {
   "cell_type": "code",
   "execution_count": 15,
   "metadata": {
    "ExecuteTime": {
     "end_time": "2022-05-31T11:13:18.192227Z",
     "start_time": "2022-05-31T11:13:18.181044Z"
    },
    "colab": {},
    "colab_type": "code",
    "id": "KN0pVot6RV4X"
   },
   "outputs": [],
   "source": [
    "class VAE(nn.Module):\n",
    "        ''' This the VAE, which takes a encoder and decoder.\n",
    "\n",
    "        '''\n",
    "        def __init__(self, enc, dec):\n",
    "            super().__init__()\n",
    "\n",
    "            self.enc = enc\n",
    "            self.dec = dec\n",
    "\n",
    "        def forward(self, x):\n",
    "            # encode\n",
    "            z_mu, z_var = self.enc(x)\n",
    "\n",
    "            # sample from the distribution having latent parameters z_mu, z_var\n",
    "            # reparameterize\n",
    "            std = torch.exp(z_var / 2)\n",
    "            eps = torch.randn_like(std)\n",
    "            x_sample = eps.mul(std).add_(z_mu)\n",
    "\n",
    "            # decode\n",
    "            predicted = self.dec(x_sample)\n",
    "            return predicted, z_mu, z_var"
   ]
  },
  {
   "cell_type": "code",
   "execution_count": 16,
   "metadata": {
    "ExecuteTime": {
     "end_time": "2022-05-31T11:13:18.914036Z",
     "start_time": "2022-05-31T11:13:18.764646Z"
    },
    "colab": {},
    "colab_type": "code",
    "id": "iLonP9JwRcFn"
   },
   "outputs": [],
   "source": [
    "device = torch.device('cuda' if torch.cuda.is_available() else 'cpu')\n",
    "encoder = Encoder(10000, 256, 20)\n",
    "\n",
    "    # decoder\n",
    "decoder = Decoder(20, 256, 10000)\n",
    "\n",
    "    # vae\n",
    "model = VAE(encoder, decoder)\n",
    "\n",
    "    # optimizer\n",
    "optimizer = optim.Adam(model.parameters(), lr=0.003)"
   ]
  },
  {
   "cell_type": "code",
   "execution_count": 17,
   "metadata": {
    "ExecuteTime": {
     "end_time": "2022-05-31T11:39:36.340906Z",
     "start_time": "2022-05-31T11:13:20.817056Z"
    },
    "colab": {},
    "colab_type": "code",
    "id": "7jKnPspVR2Vo",
    "scrolled": true
   },
   "outputs": [
    {
     "name": "stdout",
     "output_type": "stream",
     "text": [
      "Started accessing trainloader\n"
     ]
    },
    {
     "name": "stderr",
     "output_type": "stream",
     "text": [
      "/tmp/ipykernel_11029/705284060.py:9: UserWarning: Implicit dimension choice for softmax has been deprecated. Change the call to include dim=X as an argument.\n",
      "  img=F.softmax(img)\n",
      "/home/donghee/anaconda3/envs/sac/lib/python3.8/site-packages/torch/nn/_reduction.py:42: UserWarning: size_average and reduce args will be deprecated, please use reduction='sum' instead.\n",
      "  warnings.warn(warning.format(ret))\n"
     ]
    },
    {
     "name": "stdout",
     "output_type": "stream",
     "text": [
      "accessing test loader\n"
     ]
    },
    {
     "name": "stderr",
     "output_type": "stream",
     "text": [
      "/tmp/ipykernel_11029/705284060.py:31: UserWarning: Implicit dimension choice for softmax has been deprecated. Change the call to include dim=X as an argument.\n",
      "  img=F.softmax(img)\n"
     ]
    },
    {
     "name": "stdout",
     "output_type": "stream",
     "text": [
      "Epoch 0, Train Loss: 1035.86, Test Loss: 92.15\n",
      "Started accessing trainloader\n",
      "accessing test loader\n",
      "Epoch 1, Train Loss: 81.51, Test Loss: 73.69\n",
      "Started accessing trainloader\n",
      "accessing test loader\n",
      "Epoch 2, Train Loss: 72.67, Test Loss: 72.31\n",
      "Started accessing trainloader\n",
      "accessing test loader\n",
      "Epoch 3, Train Loss: 67.10, Test Loss: 64.12\n",
      "Started accessing trainloader\n",
      "accessing test loader\n",
      "Epoch 4, Train Loss: 62.20, Test Loss: 60.35\n",
      "Started accessing trainloader\n",
      "accessing test loader\n",
      "Epoch 5, Train Loss: 59.60, Test Loss: 58.67\n",
      "Started accessing trainloader\n",
      "accessing test loader\n",
      "Epoch 6, Train Loss: 57.61, Test Loss: 57.37\n",
      "Started accessing trainloader\n",
      "accessing test loader\n",
      "Epoch 7, Train Loss: 55.83, Test Loss: 54.89\n",
      "Started accessing trainloader\n",
      "accessing test loader\n",
      "Epoch 8, Train Loss: 54.19, Test Loss: 53.65\n",
      "Started accessing trainloader\n",
      "accessing test loader\n",
      "Epoch 9, Train Loss: 53.29, Test Loss: 53.02\n",
      "Started accessing trainloader\n",
      "accessing test loader\n",
      "Epoch 10, Train Loss: 52.95, Test Loss: 52.83\n",
      "Started accessing trainloader\n",
      "accessing test loader\n",
      "Epoch 11, Train Loss: 52.99, Test Loss: 52.75\n",
      "Started accessing trainloader\n",
      "accessing test loader\n",
      "Epoch 12, Train Loss: 52.64, Test Loss: 52.40\n",
      "Started accessing trainloader\n",
      "accessing test loader\n",
      "Epoch 13, Train Loss: 52.69, Test Loss: 52.21\n",
      "Started accessing trainloader\n",
      "accessing test loader\n",
      "Epoch 14, Train Loss: 52.49, Test Loss: 52.17\n",
      "Started accessing trainloader\n",
      "accessing test loader\n",
      "Epoch 15, Train Loss: 52.27, Test Loss: 52.34\n",
      "Started accessing trainloader\n",
      "accessing test loader\n",
      "Epoch 16, Train Loss: 52.12, Test Loss: 52.40\n",
      "Started accessing trainloader\n",
      "accessing test loader\n",
      "Epoch 17, Train Loss: 52.04, Test Loss: 51.87\n",
      "Started accessing trainloader\n",
      "accessing test loader\n",
      "Epoch 18, Train Loss: 51.96, Test Loss: 51.71\n",
      "Started accessing trainloader\n",
      "accessing test loader\n",
      "Epoch 19, Train Loss: 51.66, Test Loss: 51.56\n",
      "Started accessing trainloader\n",
      "accessing test loader\n",
      "Epoch 20, Train Loss: 51.56, Test Loss: 51.43\n",
      "Started accessing trainloader\n",
      "accessing test loader\n",
      "Epoch 21, Train Loss: 51.43, Test Loss: 51.37\n",
      "Started accessing trainloader\n",
      "accessing test loader\n",
      "Epoch 22, Train Loss: 51.28, Test Loss: 51.14\n",
      "Started accessing trainloader\n",
      "accessing test loader\n",
      "Epoch 23, Train Loss: 51.12, Test Loss: 51.06\n",
      "Started accessing trainloader\n",
      "accessing test loader\n",
      "Epoch 24, Train Loss: 51.01, Test Loss: 51.02\n",
      "Started accessing trainloader\n",
      "accessing test loader\n",
      "Epoch 25, Train Loss: 50.95, Test Loss: 50.85\n",
      "Started accessing trainloader\n",
      "accessing test loader\n",
      "Epoch 26, Train Loss: 50.87, Test Loss: 50.84\n",
      "Started accessing trainloader\n",
      "accessing test loader\n",
      "Epoch 27, Train Loss: 50.81, Test Loss: 50.74\n",
      "Started accessing trainloader\n",
      "accessing test loader\n",
      "Epoch 28, Train Loss: 50.74, Test Loss: 50.69\n",
      "Started accessing trainloader\n",
      "accessing test loader\n",
      "Epoch 29, Train Loss: 50.71, Test Loss: 50.67\n",
      "Started accessing trainloader\n",
      "accessing test loader\n",
      "Epoch 30, Train Loss: 50.69, Test Loss: 50.64\n",
      "Started accessing trainloader\n",
      "accessing test loader\n",
      "Epoch 31, Train Loss: 50.66, Test Loss: 50.63\n",
      "Started accessing trainloader\n",
      "accessing test loader\n",
      "Epoch 32, Train Loss: 50.64, Test Loss: 50.61\n",
      "Started accessing trainloader\n",
      "accessing test loader\n",
      "Epoch 33, Train Loss: 50.63, Test Loss: 50.60\n",
      "Started accessing trainloader\n",
      "accessing test loader\n",
      "Epoch 34, Train Loss: 50.63, Test Loss: 50.60\n",
      "Started accessing trainloader\n",
      "accessing test loader\n",
      "Epoch 35, Train Loss: 50.62, Test Loss: 50.60\n",
      "Started accessing trainloader\n",
      "accessing test loader\n",
      "Epoch 36, Train Loss: 50.62, Test Loss: 50.59\n",
      "Started accessing trainloader\n",
      "accessing test loader\n",
      "Epoch 37, Train Loss: 50.61, Test Loss: 50.60\n",
      "Started accessing trainloader\n",
      "accessing test loader\n",
      "Epoch 38, Train Loss: 50.61, Test Loss: 50.60\n",
      "Started accessing trainloader\n",
      "accessing test loader\n",
      "Epoch 39, Train Loss: 50.61, Test Loss: 50.59\n",
      "Started accessing trainloader\n",
      "accessing test loader\n",
      "Epoch 40, Train Loss: 50.63, Test Loss: 50.62\n",
      "Started accessing trainloader\n",
      "accessing test loader\n",
      "Epoch 41, Train Loss: 50.66, Test Loss: 50.62\n",
      "Started accessing trainloader\n",
      "accessing test loader\n",
      "Epoch 42, Train Loss: 50.77, Test Loss: 50.65\n"
     ]
    }
   ],
   "source": [
    "best_test_loss = float('inf')\n",
    "patience_counter=0\n",
    "for epochs in range(0,50):\n",
    "  train_loss=0\n",
    "  test_loss = 0\n",
    "  print('Started accessing trainloader')\n",
    "  for img,lab in trainloader:\n",
    "    img=img.view(-1,10000)\n",
    "    img=F.softmax(img)\n",
    "    #img=img.to(device)\n",
    "    optimizer.zero_grad()\n",
    "# forward pass\n",
    "    img_sample, z_mu, z_var = model(img)\n",
    "   # print(f'before softmax : {img_sample}')\n",
    "    #img_sample=F.softmax(img_sample)\n",
    "   # print(f'after softmax : {img_sample}')\n",
    "    recon_loss = F.binary_cross_entropy(img_sample, img, size_average=False)\n",
    "# kl divergence loss\n",
    "    kl_loss = 0.5 * torch.sum(torch.exp(z_var) + z_mu**2 - 1.0 - z_var)\n",
    "# total loss\n",
    "    loss = recon_loss + kl_loss\n",
    "    loss.backward()\n",
    "    train_loss += loss.item()\n",
    "    optimizer.step()\n",
    "  else:\n",
    "    with torch.no_grad():\n",
    "      print('accessing test loader')\n",
    "      for img,lab in testloader:\n",
    "        # reshape the data\n",
    "        img = img.view(-1, 10000)\n",
    "        img=F.softmax(img)\n",
    "       # img=img.to(device)\n",
    "        # forward pass\n",
    "        img_sample, z_mu, z_var = model(img)\n",
    "        #img_sample=F.softmax(img_sample)\n",
    "        # reconstruction loss\n",
    "        recon_loss = F.binary_cross_entropy(img_sample, img, size_average=False)\n",
    "        # kl divergence loss\n",
    "        kl_loss = 0.5 * torch.sum(torch.exp(z_var) + z_mu**2 - 1.0 - z_var)\n",
    "        # total loss\n",
    "        loss = recon_loss + kl_loss\n",
    "        test_loss += loss.item()\n",
    "  torch.save(G.state_dict(), f\"trained_generator_{j}th\")\n",
    "  train_loss /= len(trainloader)\n",
    "  test_loss /= len(testloader)\n",
    "  print(f'Epoch {epochs}, Train Loss: {train_loss:.2f}, Test Loss: {test_loss:.2f}')\n",
    "  if best_test_loss > test_loss:\n",
    "    best_test_loss = test_loss\n",
    "    patience_counter = 1\n",
    "  else:\n",
    "    patience_counter += 1\n",
    "  if patience_counter > 3:\n",
    "    break\n",
    "\n",
    "    \n"
   ]
  },
  {
   "cell_type": "code",
   "execution_count": 48,
   "metadata": {
    "ExecuteTime": {
     "end_time": "2022-05-31T12:19:29.086815Z",
     "start_time": "2022-05-31T12:19:28.955866Z"
    },
    "colab": {
     "base_uri": "https://localhost:8080/",
     "height": 319
    },
    "colab_type": "code",
    "id": "21ZRDXQJaf9f",
    "outputId": "add401c3-b877-449e-f426-efb96487896a"
   },
   "outputs": [
    {
     "name": "stdout",
     "output_type": "stream",
     "text": [
      "torch.Size([1, 20])\n",
      "torch.Size([1, 100, 100])\n",
      "torch.Size([1, 100, 100])\n",
      "torch.Size([1, 20])\n",
      "torch.Size([1, 100, 100])\n",
      "torch.Size([1, 100, 100])\n",
      "torch.Size([1, 20])\n",
      "torch.Size([1, 100, 100])\n",
      "torch.Size([1, 100, 100])\n",
      "torch.Size([1, 20])\n",
      "torch.Size([1, 100, 100])\n",
      "torch.Size([1, 100, 100])\n",
      "torch.Size([1, 20])\n",
      "torch.Size([1, 100, 100])\n",
      "torch.Size([1, 100, 100])\n",
      "torch.Size([1, 20])\n",
      "torch.Size([1, 100, 100])\n",
      "torch.Size([1, 100, 100])\n",
      "torch.Size([1, 20])\n",
      "torch.Size([1, 100, 100])\n",
      "torch.Size([1, 100, 100])\n",
      "torch.Size([1, 20])\n",
      "torch.Size([1, 100, 100])\n",
      "torch.Size([1, 100, 100])\n",
      "torch.Size([1, 20])\n",
      "torch.Size([1, 100, 100])\n",
      "torch.Size([1, 100, 100])\n",
      "torch.Size([1, 20])\n",
      "torch.Size([1, 100, 100])\n",
      "torch.Size([1, 100, 100])\n",
      "torch.Size([1, 20])\n",
      "torch.Size([1, 100, 100])\n",
      "torch.Size([1, 100, 100])\n",
      "torch.Size([1, 20])\n",
      "torch.Size([1, 100, 100])\n",
      "torch.Size([1, 100, 100])\n",
      "torch.Size([1, 20])\n",
      "torch.Size([1, 100, 100])\n",
      "torch.Size([1, 100, 100])\n",
      "torch.Size([1, 20])\n",
      "torch.Size([1, 100, 100])\n",
      "torch.Size([1, 100, 100])\n",
      "torch.Size([1, 20])\n",
      "torch.Size([1, 100, 100])\n",
      "torch.Size([1, 100, 100])\n",
      "torch.Size([1, 20])\n",
      "torch.Size([1, 100, 100])\n",
      "torch.Size([1, 100, 100])\n",
      "torch.Size([1, 20])\n",
      "torch.Size([1, 100, 100])\n",
      "torch.Size([1, 100, 100])\n",
      "torch.Size([1, 20])\n",
      "torch.Size([1, 100, 100])\n",
      "torch.Size([1, 100, 100])\n",
      "torch.Size([1, 20])\n",
      "torch.Size([1, 100, 100])\n",
      "torch.Size([1, 100, 100])\n",
      "torch.Size([1, 20])\n",
      "torch.Size([1, 100, 100])\n",
      "torch.Size([1, 100, 100])\n",
      "torch.Size([1, 20])\n",
      "torch.Size([1, 100, 100])\n",
      "torch.Size([1, 100, 100])\n",
      "torch.Size([1, 20])\n",
      "torch.Size([1, 100, 100])\n",
      "torch.Size([1, 100, 100])\n",
      "torch.Size([1, 20])\n",
      "torch.Size([1, 100, 100])\n",
      "torch.Size([1, 100, 100])\n",
      "torch.Size([1, 20])\n",
      "torch.Size([1, 100, 100])\n",
      "torch.Size([1, 100, 100])\n",
      "torch.Size([1, 20])\n",
      "torch.Size([1, 100, 100])\n",
      "torch.Size([1, 100, 100])\n",
      "torch.Size([1, 20])\n",
      "torch.Size([1, 100, 100])\n",
      "torch.Size([1, 100, 100])\n",
      "torch.Size([1, 20])\n",
      "torch.Size([1, 100, 100])\n",
      "torch.Size([1, 100, 100])\n",
      "torch.Size([1, 20])\n",
      "torch.Size([1, 100, 100])\n",
      "torch.Size([1, 100, 100])\n",
      "torch.Size([1, 20])\n",
      "torch.Size([1, 100, 100])\n",
      "torch.Size([1, 100, 100])\n",
      "torch.Size([1, 20])\n",
      "torch.Size([1, 100, 100])\n",
      "torch.Size([1, 100, 100])\n"
     ]
    }
   ],
   "source": [
    "for i in range(30):\n",
    "    z = torch.randn(1, 20)\n",
    "    reconstructed_img = model.dec(z)\n",
    "    img = reconstructed_img.view(1, 100, 100).data\n",
    "    \n",
    "    from torchvision.utils import save_image\n",
    "    save_image(img, f\"img_{i}.png\")\n"
   ]
  },
  {
   "cell_type": "code",
   "execution_count": null,
   "metadata": {},
   "outputs": [],
   "source": []
  },
  {
   "cell_type": "code",
   "execution_count": null,
   "metadata": {},
   "outputs": [],
   "source": []
  }
 ],
 "metadata": {
  "accelerator": "GPU",
  "colab": {
   "collapsed_sections": [],
   "name": "VAE.ipynb",
   "provenance": []
  },
  "kernelspec": {
   "display_name": "Python 3 (ipykernel)",
   "language": "python",
   "name": "python3"
  },
  "language_info": {
   "codemirror_mode": {
    "name": "ipython",
    "version": 3
   },
   "file_extension": ".py",
   "mimetype": "text/x-python",
   "name": "python",
   "nbconvert_exporter": "python",
   "pygments_lexer": "ipython3",
   "version": "3.8.11"
  },
  "toc": {
   "base_numbering": 1,
   "nav_menu": {},
   "number_sections": true,
   "sideBar": true,
   "skip_h1_title": false,
   "title_cell": "Table of Contents",
   "title_sidebar": "Contents",
   "toc_cell": false,
   "toc_position": {},
   "toc_section_display": true,
   "toc_window_display": false
  }
 },
 "nbformat": 4,
 "nbformat_minor": 1
}
