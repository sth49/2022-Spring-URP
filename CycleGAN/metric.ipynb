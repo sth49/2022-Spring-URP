{
 "cells": [
  {
   "cell_type": "code",
   "execution_count": 2,
   "id": "27036a99",
   "metadata": {
    "ExecuteTime": {
     "end_time": "2022-06-03T04:50:35.574909Z",
     "start_time": "2022-06-03T04:50:34.564796Z"
    }
   },
   "outputs": [],
   "source": [
    "import os\n",
    "from argparse import ArgumentDefaultsHelpFormatter, ArgumentParser\n",
    "from PIL import Image\n",
    "import torch\n",
    "import IS\n",
    "import pathlib\n",
    "from IPython import embed\n",
    "import torchvision.transforms as TF\n",
    "\n"
   ]
  },
  {
   "cell_type": "code",
   "execution_count": 3,
   "id": "4ab20d43",
   "metadata": {
    "ExecuteTime": {
     "end_time": "2022-06-03T04:50:35.584445Z",
     "start_time": "2022-06-03T04:50:35.576787Z"
    }
   },
   "outputs": [],
   "source": [
    "from pytorch_gan_metrics import (get_inception_score,\n",
    "                                 get_fid,\n",
    "                                 get_inception_score_and_fid)\n",
    "from pytorch_gan_metrics import ImageDataset\n",
    "from torch.utils.data import DataLoader\n",
    "IS_dict_fake = {}\n",
    "IS_dict_real = {}"
   ]
  },
  {
   "cell_type": "code",
   "execution_count": 58,
   "id": "e74a86af",
   "metadata": {
    "ExecuteTime": {
     "end_time": "2022-05-14T10:19:50.526322Z",
     "start_time": "2022-05-14T04:30:55.375551Z"
    }
   },
   "outputs": [
    {
     "name": "stdout",
     "output_type": "stream",
     "text": [
      "['GOPR0802', 'GOPR0804', 'GOPR0806', 'GOPR0807', 'GOPR0810', 'GOPR0811', 'GOPR0812', 'GOPR0815', 'GOPR0816', 'GOPR0824', 'GOPR0825', 'GOPR0859', 'GOPR0860', 'GOPR0863', 'GOPR0864', 'GOPR0866', 'GOPR0951', 'GOPR1693', 'GOPR1715', 'GOPR1725', 'GOPR1733', 'GOPR1735', 'GOPR1738', 'GOPR1742', 'GOPR1745', 'GOPR1747', 'GOPR1748', 'GOPR1752', 'GOPR1781', 'GOPR1789', 'GOPR1790', 'GOPR1791', 'GOPR1792', 'GOPR1793', 'GOPR1797', 'GOPR1798', 'GOPR1799', 'GOPR1800', 'GOPR1804', 'GOPR1853', 'GOPR1854', 'GOPR1859', 'GOPR1861', 'GOPR1864', 'GOPR1865', 'GOPR1866', 'GOPR1876', 'GOPR1912', 'GOPR1913', 'GOPR1914', 'GOPR1919', 'GOPR2201', 'GOPR2275', 'GOPR2422', 'GOPR2456', 'GOPR2662', 'GOPR2666', 'GOPR2667', 'GOPR2668', 'GOPR2672', 'GOPR2675', 'GOPR2680', 'GOPR2681', 'GOPR2686', 'GOPR2688', 'GOPR2691', 'GOPR2698', 'GOPR2701', 'GOPR2702', 'GOPR2703', 'GOPR2706', 'GOPR2711', 'GOPR2717', 'GOPR2728', 'GOPR2735', 'GOPR2739', 'GOPR2742', 'GOPR2743', 'GOPR2744', 'GOPR2746', 'GOPR2751', 'GOPR2752']\n",
      "82\n",
      "REAL: /media/data1/donghee/VFP290K/GOPR0802/images -> 1.2760203980490967\n",
      "FAKE: /media/data1/donghee/winter_VFP290K/GOPR0802/images -> 1.3862450891352764\n",
      "===================================\n",
      "REAL: /media/data1/donghee/VFP290K/GOPR0804/images -> 1.7212801109503861\n",
      "FAKE: /media/data1/donghee/winter_VFP290K/GOPR0804/images -> 1.7203110960240238\n",
      "===================================\n",
      "REAL: /media/data1/donghee/VFP290K/GOPR0806/images -> 1.3052130819052778\n",
      "FAKE: /media/data1/donghee/winter_VFP290K/GOPR0806/images -> 1.2351226852372261\n",
      "===================================\n",
      "REAL: /media/data1/donghee/VFP290K/GOPR0807/images -> 1.3264653623249467\n",
      "FAKE: /media/data1/donghee/winter_VFP290K/GOPR0807/images -> 1.4773910599652365\n",
      "===================================\n",
      "REAL: /media/data1/donghee/VFP290K/GOPR0810/images -> 2.2418565288478054\n",
      "FAKE: /media/data1/donghee/winter_VFP290K/GOPR0810/images -> 1.6908555586029266\n",
      "===================================\n",
      "REAL: /media/data1/donghee/VFP290K/GOPR0811/images -> 1.7694487586591716\n",
      "FAKE: /media/data1/donghee/winter_VFP290K/GOPR0811/images -> 1.8458206234769512\n",
      "===================================\n",
      "REAL: /media/data1/donghee/VFP290K/GOPR0812/images -> 1.2602036169427209\n",
      "FAKE: /media/data1/donghee/winter_VFP290K/GOPR0812/images -> 1.2680618052887975\n",
      "===================================\n",
      "REAL: /media/data1/donghee/VFP290K/GOPR0815/images -> 1.305388496302041\n",
      "FAKE: /media/data1/donghee/winter_VFP290K/GOPR0815/images -> 1.0481171838215522\n",
      "===================================\n",
      "REAL: /media/data1/donghee/VFP290K/GOPR0816/images -> 1.3046318216622723\n",
      "FAKE: /media/data1/donghee/winter_VFP290K/GOPR0816/images -> 1.1321074454926918\n",
      "===================================\n",
      "REAL: /media/data1/donghee/VFP290K/GOPR0824/images -> 2.318225550367514\n",
      "FAKE: /media/data1/donghee/winter_VFP290K/GOPR0824/images -> 2.28956454390607\n",
      "===================================\n",
      "REAL: /media/data1/donghee/VFP290K/GOPR0825/images -> 1.376589923303174\n",
      "FAKE: /media/data1/donghee/winter_VFP290K/GOPR0825/images -> 1.4253308026952731\n",
      "===================================\n",
      "REAL: /media/data1/donghee/VFP290K/GOPR0859/images -> 1.1911856187044525\n",
      "FAKE: /media/data1/donghee/winter_VFP290K/GOPR0859/images -> 1.171954942865067\n",
      "===================================\n",
      "REAL: /media/data1/donghee/VFP290K/GOPR0860/images -> 1.1416468397416604\n",
      "FAKE: /media/data1/donghee/winter_VFP290K/GOPR0860/images -> 1.1393269084161302\n",
      "===================================\n",
      "REAL: /media/data1/donghee/VFP290K/GOPR0863/images -> 1.1476481309012803\n",
      "FAKE: /media/data1/donghee/winter_VFP290K/GOPR0863/images -> 1.1755994946386696\n",
      "===================================\n",
      "REAL: /media/data1/donghee/VFP290K/GOPR0864/images -> 1.098087842400225\n",
      "FAKE: /media/data1/donghee/winter_VFP290K/GOPR0864/images -> 1.1067839102956814\n",
      "===================================\n",
      "REAL: /media/data1/donghee/VFP290K/GOPR0866/images -> 1.388989881379946\n",
      "FAKE: /media/data1/donghee/winter_VFP290K/GOPR0866/images -> 1.3077582681000317\n",
      "===================================\n",
      "REAL: /media/data1/donghee/VFP290K/GOPR0951/images -> 1.2192648065384863\n",
      "FAKE: /media/data1/donghee/winter_VFP290K/GOPR0951/images -> 1.2307630696636735\n",
      "===================================\n",
      "REAL: /media/data1/donghee/VFP290K/GOPR1693/images -> 2.109124234088821\n",
      "FAKE: /media/data1/donghee/winter_VFP290K/GOPR1693/images -> 1.9987585219988062\n",
      "===================================\n",
      "REAL: /media/data1/donghee/VFP290K/GOPR1715/images -> 2.554192219771293\n",
      "FAKE: /media/data1/donghee/winter_VFP290K/GOPR1715/images -> 2.65110917547845\n",
      "===================================\n",
      "REAL: /media/data1/donghee/VFP290K/GOPR1725/images -> 1.7750414863347015\n",
      "FAKE: /media/data1/donghee/winter_VFP290K/GOPR1725/images -> 2.0380761621298222\n",
      "===================================\n",
      "REAL: /media/data1/donghee/VFP290K/GOPR1733/images -> 1.7877399267627214\n",
      "FAKE: /media/data1/donghee/winter_VFP290K/GOPR1733/images -> 1.555164995032\n",
      "===================================\n",
      "REAL: /media/data1/donghee/VFP290K/GOPR1735/images -> 1.137953704532632\n",
      "FAKE: /media/data1/donghee/winter_VFP290K/GOPR1735/images -> 1.1720769317231727\n",
      "===================================\n",
      "REAL: /media/data1/donghee/VFP290K/GOPR1738/images -> 1.2029083339071593\n",
      "FAKE: /media/data1/donghee/winter_VFP290K/GOPR1738/images -> 1.3659018048220224\n",
      "===================================\n",
      "REAL: /media/data1/donghee/VFP290K/GOPR1742/images -> 1.3897444840577877\n",
      "FAKE: /media/data1/donghee/winter_VFP290K/GOPR1742/images -> 1.1128644159507068\n",
      "===================================\n",
      "REAL: /media/data1/donghee/VFP290K/GOPR1745/images -> 1.7366926070038602\n",
      "FAKE: /media/data1/donghee/winter_VFP290K/GOPR1745/images -> 1.5536520015058979\n",
      "===================================\n",
      "REAL: /media/data1/donghee/VFP290K/GOPR1747/images -> 2.141367424084821\n",
      "FAKE: /media/data1/donghee/winter_VFP290K/GOPR1747/images -> 1.455937675068049\n",
      "===================================\n",
      "REAL: /media/data1/donghee/VFP290K/GOPR1748/images -> 1.4686918548239238\n",
      "FAKE: /media/data1/donghee/winter_VFP290K/GOPR1748/images -> 1.5655248307172367\n",
      "===================================\n",
      "REAL: /media/data1/donghee/VFP290K/GOPR1752/images -> 1.3100161417390361\n",
      "FAKE: /media/data1/donghee/winter_VFP290K/GOPR1752/images -> 1.4706372802982142\n",
      "===================================\n",
      "REAL: /media/data1/donghee/VFP290K/GOPR1781/images -> 1.5481259683935802\n",
      "FAKE: /media/data1/donghee/winter_VFP290K/GOPR1781/images -> 1.420034969708518\n",
      "===================================\n",
      "REAL: /media/data1/donghee/VFP290K/GOPR1789/images -> 1.2390179938747727\n",
      "FAKE: /media/data1/donghee/winter_VFP290K/GOPR1789/images -> 1.2608905335618417\n",
      "===================================\n",
      "REAL: /media/data1/donghee/VFP290K/GOPR1790/images -> 1.3858816047756584\n",
      "FAKE: /media/data1/donghee/winter_VFP290K/GOPR1790/images -> 1.151582574139072\n",
      "===================================\n",
      "REAL: /media/data1/donghee/VFP290K/GOPR1791/images -> 1.2393364420789426\n",
      "FAKE: /media/data1/donghee/winter_VFP290K/GOPR1791/images -> 1.2387035258745254\n",
      "===================================\n",
      "REAL: /media/data1/donghee/VFP290K/GOPR1792/images -> 1.757444692436437\n",
      "FAKE: /media/data1/donghee/winter_VFP290K/GOPR1792/images -> 1.605578864770744\n",
      "===================================\n",
      "REAL: /media/data1/donghee/VFP290K/GOPR1793/images -> 1.2162092992619808\n",
      "FAKE: /media/data1/donghee/winter_VFP290K/GOPR1793/images -> 1.1449404401843581\n",
      "===================================\n",
      "REAL: /media/data1/donghee/VFP290K/GOPR1797/images -> 1.3907048001198778\n",
      "FAKE: /media/data1/donghee/winter_VFP290K/GOPR1797/images -> 1.2308940397978725\n",
      "===================================\n",
      "REAL: /media/data1/donghee/VFP290K/GOPR1798/images -> 1.7240635182533268\n",
      "FAKE: /media/data1/donghee/winter_VFP290K/GOPR1798/images -> 1.7338143902032481\n",
      "===================================\n",
      "REAL: /media/data1/donghee/VFP290K/GOPR1799/images -> 1.2759736189055009\n",
      "FAKE: /media/data1/donghee/winter_VFP290K/GOPR1799/images -> 1.2602118424894493\n",
      "===================================\n",
      "REAL: /media/data1/donghee/VFP290K/GOPR1800/images -> 1.1904063531600553\n",
      "FAKE: /media/data1/donghee/winter_VFP290K/GOPR1800/images -> 1.264295003491289\n",
      "===================================\n",
      "REAL: /media/data1/donghee/VFP290K/GOPR1804/images -> 1.2316966724361484\n",
      "FAKE: /media/data1/donghee/winter_VFP290K/GOPR1804/images -> 1.1876744771628562\n",
      "===================================\n"
     ]
    },
    {
     "name": "stdout",
     "output_type": "stream",
     "text": [
      "REAL: /media/data1/donghee/VFP290K/GOPR1853/images -> 1.2613641036189012\n",
      "FAKE: /media/data1/donghee/winter_VFP290K/GOPR1853/images -> 1.2481184211868708\n",
      "===================================\n",
      "REAL: /media/data1/donghee/VFP290K/GOPR1854/images -> 1.4264964450341897\n",
      "FAKE: /media/data1/donghee/winter_VFP290K/GOPR1854/images -> 1.5241826518308594\n",
      "===================================\n",
      "REAL: /media/data1/donghee/VFP290K/GOPR1859/images -> 1.2628178569312536\n",
      "FAKE: /media/data1/donghee/winter_VFP290K/GOPR1859/images -> 1.326240800876572\n",
      "===================================\n",
      "REAL: /media/data1/donghee/VFP290K/GOPR1861/images -> 1.3070225015369927\n",
      "FAKE: /media/data1/donghee/winter_VFP290K/GOPR1861/images -> 1.0925236389188449\n",
      "===================================\n",
      "REAL: /media/data1/donghee/VFP290K/GOPR1864/images -> 1.1264855816998927\n",
      "FAKE: /media/data1/donghee/winter_VFP290K/GOPR1864/images -> 1.3414910871237118\n",
      "===================================\n",
      "REAL: /media/data1/donghee/VFP290K/GOPR1865/images -> 1.1678866435555146\n",
      "FAKE: /media/data1/donghee/winter_VFP290K/GOPR1865/images -> 1.2435686864246296\n",
      "===================================\n",
      "REAL: /media/data1/donghee/VFP290K/GOPR1866/images -> 1.325201455278931\n",
      "FAKE: /media/data1/donghee/winter_VFP290K/GOPR1866/images -> 1.2157930496872789\n",
      "===================================\n",
      "REAL: /media/data1/donghee/VFP290K/GOPR1876/images -> 1.2314746846120328\n",
      "FAKE: /media/data1/donghee/winter_VFP290K/GOPR1876/images -> 1.4628969157482747\n",
      "===================================\n",
      "REAL: /media/data1/donghee/VFP290K/GOPR1912/images -> 1.2784209785470342\n",
      "FAKE: /media/data1/donghee/winter_VFP290K/GOPR1912/images -> 1.301867883796373\n",
      "===================================\n",
      "REAL: /media/data1/donghee/VFP290K/GOPR1913/images -> 1.2804175072408228\n",
      "FAKE: /media/data1/donghee/winter_VFP290K/GOPR1913/images -> 1.4765310486804313\n",
      "===================================\n",
      "REAL: /media/data1/donghee/VFP290K/GOPR1914/images -> 2.674282644717814\n",
      "FAKE: /media/data1/donghee/winter_VFP290K/GOPR1914/images -> 2.919777665739257\n",
      "===================================\n",
      "REAL: /media/data1/donghee/VFP290K/GOPR1919/images -> 2.104190728627466\n",
      "FAKE: /media/data1/donghee/winter_VFP290K/GOPR1919/images -> 2.7576737826697317\n",
      "===================================\n",
      "REAL: /media/data1/donghee/VFP290K/GOPR2201/images -> 1.8416607628784412\n",
      "FAKE: /media/data1/donghee/winter_VFP290K/GOPR2201/images -> 2.0715360866529866\n",
      "===================================\n",
      "REAL: /media/data1/donghee/VFP290K/GOPR2275/images -> 1.8329828818998979\n",
      "FAKE: /media/data1/donghee/winter_VFP290K/GOPR2275/images -> 2.1158774896902393\n",
      "===================================\n",
      "REAL: /media/data1/donghee/VFP290K/GOPR2422/images -> 2.0856757022870567\n",
      "FAKE: /media/data1/donghee/winter_VFP290K/GOPR2422/images -> 1.8752818210943278\n",
      "===================================\n",
      "REAL: /media/data1/donghee/VFP290K/GOPR2456/images -> 2.7550754925113723\n",
      "FAKE: /media/data1/donghee/winter_VFP290K/GOPR2456/images -> 1.6064423812011934\n",
      "===================================\n",
      "REAL: /media/data1/donghee/VFP290K/GOPR2662/images -> 3.111659701294008\n",
      "FAKE: /media/data1/donghee/winter_VFP290K/GOPR2662/images -> 2.566910850612112\n",
      "===================================\n",
      "REAL: /media/data1/donghee/VFP290K/GOPR2666/images -> 1.2978439071571715\n",
      "FAKE: /media/data1/donghee/winter_VFP290K/GOPR2666/images -> 1.2179495678976933\n",
      "===================================\n",
      "REAL: /media/data1/donghee/VFP290K/GOPR2667/images -> 1.1958499288873228\n",
      "FAKE: /media/data1/donghee/winter_VFP290K/GOPR2667/images -> 1.1605424986547628\n",
      "===================================\n",
      "REAL: /media/data1/donghee/VFP290K/GOPR2668/images -> 1.3244646799800233\n",
      "FAKE: /media/data1/donghee/winter_VFP290K/GOPR2668/images -> 1.345822147729596\n",
      "===================================\n",
      "REAL: /media/data1/donghee/VFP290K/GOPR2672/images -> 1.3156239654880129\n",
      "FAKE: /media/data1/donghee/winter_VFP290K/GOPR2672/images -> 1.5613996366462928\n",
      "===================================\n",
      "REAL: /media/data1/donghee/VFP290K/GOPR2675/images -> 2.9715073416022797\n",
      "FAKE: /media/data1/donghee/winter_VFP290K/GOPR2675/images -> 2.7155848917992964\n",
      "===================================\n",
      "REAL: /media/data1/donghee/VFP290K/GOPR2680/images -> 1.2141540638250234\n",
      "FAKE: /media/data1/donghee/winter_VFP290K/GOPR2680/images -> 1.4951863696579213\n",
      "===================================\n",
      "REAL: /media/data1/donghee/VFP290K/GOPR2681/images -> 1.370441858756023\n",
      "FAKE: /media/data1/donghee/winter_VFP290K/GOPR2681/images -> 1.4176592482061117\n",
      "===================================\n",
      "REAL: /media/data1/donghee/VFP290K/GOPR2686/images -> 1.4419437131721238\n",
      "FAKE: /media/data1/donghee/winter_VFP290K/GOPR2686/images -> 1.3578542805639682\n",
      "===================================\n",
      "REAL: /media/data1/donghee/VFP290K/GOPR2688/images -> 1.924090055937959\n",
      "FAKE: /media/data1/donghee/winter_VFP290K/GOPR2688/images -> 1.6167655003917463\n",
      "===================================\n",
      "REAL: /media/data1/donghee/VFP290K/GOPR2691/images -> 1.1465834287884697\n",
      "FAKE: /media/data1/donghee/winter_VFP290K/GOPR2691/images -> 1.1603805413914672\n",
      "===================================\n",
      "REAL: /media/data1/donghee/VFP290K/GOPR2698/images -> 1.4710040874239747\n",
      "FAKE: /media/data1/donghee/winter_VFP290K/GOPR2698/images -> 1.0880826605749943\n",
      "===================================\n",
      "REAL: /media/data1/donghee/VFP290K/GOPR2701/images -> 2.163674564921858\n",
      "FAKE: /media/data1/donghee/winter_VFP290K/GOPR2701/images -> 1.9012550435265845\n",
      "===================================\n",
      "REAL: /media/data1/donghee/VFP290K/GOPR2702/images -> 2.260704627910845\n",
      "FAKE: /media/data1/donghee/winter_VFP290K/GOPR2702/images -> 1.822507821445337\n",
      "===================================\n",
      "REAL: /media/data1/donghee/VFP290K/GOPR2703/images -> 2.7450108640375275\n",
      "FAKE: /media/data1/donghee/winter_VFP290K/GOPR2703/images -> 2.5441656343574133\n",
      "===================================\n",
      "REAL: /media/data1/donghee/VFP290K/GOPR2706/images -> 1.3741706508270048\n",
      "FAKE: /media/data1/donghee/winter_VFP290K/GOPR2706/images -> 1.315119097850966\n",
      "===================================\n",
      "REAL: /media/data1/donghee/VFP290K/GOPR2711/images -> 2.9224700792043494\n",
      "FAKE: /media/data1/donghee/winter_VFP290K/GOPR2711/images -> 2.659503746883274\n",
      "===================================\n",
      "REAL: /media/data1/donghee/VFP290K/GOPR2717/images -> 3.992806399302695\n",
      "FAKE: /media/data1/donghee/winter_VFP290K/GOPR2717/images -> 3.945409090321842\n",
      "===================================\n",
      "REAL: /media/data1/donghee/VFP290K/GOPR2728/images -> 3.2841170992986397\n",
      "FAKE: /media/data1/donghee/winter_VFP290K/GOPR2728/images -> 2.5101860823484623\n",
      "===================================\n",
      "REAL: /media/data1/donghee/VFP290K/GOPR2735/images -> 2.1846825837358903\n",
      "FAKE: /media/data1/donghee/winter_VFP290K/GOPR2735/images -> 2.3397966476213754\n",
      "===================================\n",
      "REAL: /media/data1/donghee/VFP290K/GOPR2739/images -> 2.622602964888226\n",
      "FAKE: /media/data1/donghee/winter_VFP290K/GOPR2739/images -> 2.7486354974751337\n",
      "===================================\n",
      "REAL: /media/data1/donghee/VFP290K/GOPR2742/images -> 2.714755186342697\n",
      "FAKE: /media/data1/donghee/winter_VFP290K/GOPR2742/images -> 2.533188279551923\n",
      "===================================\n",
      "REAL: /media/data1/donghee/VFP290K/GOPR2743/images -> 3.2165386274915817\n",
      "FAKE: /media/data1/donghee/winter_VFP290K/GOPR2743/images -> 2.502808411357884\n",
      "===================================\n",
      "REAL: /media/data1/donghee/VFP290K/GOPR2744/images -> 3.000493068462588\n",
      "FAKE: /media/data1/donghee/winter_VFP290K/GOPR2744/images -> 3.09715121605225\n",
      "===================================\n",
      "REAL: /media/data1/donghee/VFP290K/GOPR2746/images -> 3.0652028606635424\n",
      "FAKE: /media/data1/donghee/winter_VFP290K/GOPR2746/images -> 2.9420596761452265\n",
      "===================================\n",
      "REAL: /media/data1/donghee/VFP290K/GOPR2751/images -> 2.5198405724922375\n",
      "FAKE: /media/data1/donghee/winter_VFP290K/GOPR2751/images -> 2.4962578637534834\n",
      "===================================\n",
      "REAL: /media/data1/donghee/VFP290K/GOPR2752/images -> 1.1133274664656176\n",
      "FAKE: /media/data1/donghee/winter_VFP290K/GOPR2752/images -> 1.339379568970795\n",
      "===================================\n"
     ]
    }
   ],
   "source": [
    "path = \"/media/data1/donghee/winter_VFP290K\"\n",
    "path2 = \"/media/data1/donghee/VFP290K\"\n",
    "folders = sorted(os.listdir(path))\n",
    "print(folders)\n",
    "print(len(folders))\n",
    "for folder in folders:\n",
    "    \n",
    "    temp_path = os.path.join(path, folder)\n",
    "    temp_path = os.path.join(temp_path, \"images\")\n",
    "    temp_path2 = os.path.join(path2, folder)\n",
    "    temp_path2 = os.path.join(temp_path2, \"images\")\n",
    "    dataset = ImageDataset(temp_path, exts=['png', 'jpg'])\n",
    "    loader = DataLoader(dataset, batch_size=50, num_workers=4)\n",
    "    dataset2 = ImageDataset(temp_path2, exts=['png', 'jpg'])\n",
    "    loader2 = DataLoader(dataset2, batch_size=50, num_workers=4)\n",
    "    \n",
    "    IS_fake, IS_std_fake = get_inception_score(loader)\n",
    "    IS_real, IS_std_real = get_inception_score(loader2)\n",
    "    \n",
    "    IS_dict_fake[temp_path]=[IS_fake, IS_std_fake]\n",
    "    IS_dict_real[temp_path2]=[IS_real, IS_std_real]\n",
    "    print(f\"REAL: {temp_path2} -> {IS_real}\")\n",
    "    print(f\"FAKE: {temp_path} -> {IS_fake}\")\n",
    "    print(\"===================================\")\n",
    "\n"
   ]
  },
  {
   "cell_type": "code",
   "execution_count": 18,
   "id": "7316653d",
   "metadata": {
    "ExecuteTime": {
     "end_time": "2022-06-02T13:41:15.641457Z",
     "start_time": "2022-06-02T13:25:36.154080Z"
    }
   },
   "outputs": [
    {
     "name": "stdout",
     "output_type": "stream",
     "text": [
      "['GOPR1726', 'GOPR0865']\n",
      "2\n",
      "REAL: /media/data1/donghee/VFP290K/GOPR1726/images -> 1.7882266978480559\n",
      "FAKE: /media/data1/donghee/winter_VFP290K/GOPR1726/images -> 1.8368115765109798\n",
      "===================================\n",
      "REAL: /media/data1/donghee/VFP290K/GOPR0865/images -> 1.3193661932038945\n",
      "FAKE: /media/data1/donghee/winter_VFP290K/GOPR0865/images -> 1.207214202310918\n",
      "===================================\n"
     ]
    }
   ],
   "source": [
    "path = \"/media/data1/donghee/winter_VFP290K\"\n",
    "path2 = \"/media/data1/donghee/VFP290K\"\n",
    "folders = ['GOPR1726', 'GOPR0865']\n",
    "print(folders)\n",
    "print(len(folders))\n",
    "for folder in folders:\n",
    "    \n",
    "    temp_path = os.path.join(path, folder)\n",
    "    temp_path = os.path.join(temp_path, \"images\")\n",
    "    temp_path2 = os.path.join(path2, folder)\n",
    "    temp_path2 = os.path.join(temp_path2, \"images\")\n",
    "    dataset = ImageDataset(temp_path, exts=['png', 'jpg'])\n",
    "    loader = DataLoader(dataset, batch_size=50, num_workers=4)\n",
    "    dataset2 = ImageDataset(temp_path2, exts=['png', 'jpg'])\n",
    "    loader2 = DataLoader(dataset2, batch_size=50, num_workers=4)\n",
    "    \n",
    "    IS_fake, IS_std_fake = get_inception_score(loader)\n",
    "    IS_real, IS_std_real = get_inception_score(loader2)\n",
    "    \n",
    "    IS_dict_fake[temp_path]=[IS_fake, IS_std_fake]\n",
    "    IS_dict_real[temp_path2]=[IS_real, IS_std_real]\n",
    "    print(f\"REAL: {temp_path2} -> {IS_real}\")\n",
    "    print(f\"FAKE: {temp_path} -> {IS_fake}\")\n",
    "    print(\"===================================\")\n",
    "\n"
   ]
  },
  {
   "cell_type": "code",
   "execution_count": 10,
   "id": "622868e8",
   "metadata": {
    "ExecuteTime": {
     "end_time": "2022-06-03T05:24:36.001195Z",
     "start_time": "2022-06-03T05:24:31.959908Z"
    }
   },
   "outputs": [
    {
     "name": "stdout",
     "output_type": "stream",
     "text": [
      "dcgan\n",
      "FAKE: /home/donghee/dcgan -> 1.3409169096791387\n",
      "===================================\n",
      "gan\n",
      "FAKE: /home/donghee/gan -> 1.5668107682324321\n",
      "===================================\n"
     ]
    }
   ],
   "source": [
    "path = \"/home/donghee/\"\n",
    "folders = ['dcgan','gan']\n",
    "for folder in folders:\n",
    "    print(folder)\n",
    "    temp_path = os.path.join(path, folder)\n",
    "    dataset = ImageDataset(temp_path, exts=['png', 'jpg'])\n",
    "    loader = DataLoader(dataset, batch_size=50, num_workers=4)\n",
    "    \n",
    "    IS_fake, IS_std_fake = get_inception_score(loader)\n",
    "    print(f\"FAKE: {temp_path} -> {IS_fake}\")\n",
    "    print(\"===================================\")\n",
    "\n"
   ]
  },
  {
   "cell_type": "code",
   "execution_count": 19,
   "id": "9fccd928",
   "metadata": {
    "ExecuteTime": {
     "end_time": "2022-06-02T13:58:27.706260Z",
     "start_time": "2022-06-02T13:51:24.471931Z"
    }
   },
   "outputs": [
    {
     "name": "stdout",
     "output_type": "stream",
     "text": [
      "['GOPR1725', 'GOPR2752', 'GOPR2456']\n",
      "3\n",
      "REAL: /media/data1/donghee/VFP290K/GOPR1725/images -> 1.7715650512095045\n",
      "FAKE: /media/data1/donghee/winter_VFP290K/GOPR1725/images -> 2.0380761621298222\n",
      "===================================\n",
      "REAL: /media/data1/donghee/VFP290K/GOPR2752/images -> 1.1130916337612153\n",
      "FAKE: /media/data1/donghee/winter_VFP290K/GOPR2752/images -> 1.339379568970795\n",
      "===================================\n",
      "REAL: /media/data1/donghee/VFP290K/GOPR2456/images -> 2.7473658892382953\n",
      "FAKE: /media/data1/donghee/winter_VFP290K/GOPR2456/images -> 1.6064423812011934\n",
      "===================================\n"
     ]
    }
   ],
   "source": [
    "path = \"/media/data1/donghee/winter_VFP290K\"\n",
    "path2 = \"/media/data1/donghee/VFP290K\"\n",
    "folders = ['GOPR1725', 'GOPR2752', 'GOPR2456']\n",
    "print(folders)\n",
    "print(len(folders))\n",
    "for folder in folders:\n",
    "    \n",
    "    temp_path = os.path.join(path, folder)\n",
    "    temp_path = os.path.join(temp_path, \"images\")\n",
    "    temp_path2 = os.path.join(path2, folder)\n",
    "    temp_path2 = os.path.join(temp_path2, \"images\")\n",
    "    dataset = ImageDataset(temp_path, exts=['png', 'jpg'])\n",
    "    loader = DataLoader(dataset, batch_size=50, num_workers=4)\n",
    "    dataset2 = ImageDataset(temp_path2, exts=['png', 'jpg'])\n",
    "    loader2 = DataLoader(dataset2, batch_size=50, num_workers=4)\n",
    "    \n",
    "    IS_fake, IS_std_fake = get_inception_score(loader)\n",
    "    IS_real, IS_std_real = get_inception_score(loader2)\n",
    "    \n",
    "    IS_dict_fake[temp_path]=[IS_fake, IS_std_fake]\n",
    "    IS_dict_real[temp_path2]=[IS_real, IS_std_real]\n",
    "    print(f\"REAL: {temp_path2} -> {IS_real}\")\n",
    "    print(f\"FAKE: {temp_path} -> {IS_fake}\")\n",
    "    print(\"===================================\")\n",
    "\n"
   ]
  },
  {
   "cell_type": "code",
   "execution_count": 3,
   "id": "c1184450",
   "metadata": {
    "ExecuteTime": {
     "end_time": "2022-06-02T08:11:32.960027Z",
     "start_time": "2022-06-02T08:11:32.663368Z"
    }
   },
   "outputs": [
    {
     "name": "stdout",
     "output_type": "stream",
     "text": [
      "294713\n",
      "294713\n"
     ]
    }
   ],
   "source": [
    "path = \"/media/data1/donghee/winter_VFP290K\"\n",
    "path2 = \"/media/data1/donghee/VFP290K\"\n",
    "folders = sorted(os.listdir(path))\n",
    "# print(folders)\n",
    "# print(len(folders))\n",
    "sum = 0\n",
    "sum2 = 0\n",
    "for folder in folders:\n",
    "    images = os.listdir(os.path.join(path, folder+\"/images\"))\n",
    "    images2 = os.listdir(os.path.join(path2, folder+\"/images\"))\n",
    "#     print(os.path.join(path, folder))\n",
    "    sum += len(images)\n",
    "    sum2 +=len(images2)\n",
    "print(sum)\n",
    "print(sum2)"
   ]
  },
  {
   "cell_type": "code",
   "execution_count": 6,
   "id": "0d7008c8",
   "metadata": {
    "ExecuteTime": {
     "end_time": "2022-06-02T08:12:46.761783Z",
     "start_time": "2022-06-02T08:12:46.750207Z"
    }
   },
   "outputs": [
    {
     "name": "stdout",
     "output_type": "stream",
     "text": [
      "36\n",
      "12\n"
     ]
    }
   ],
   "source": [
    "train = [\"GOPR0809\", \"GOPR0812\", \"GOPR0813\", \"GOPR0815\", \"GOPR0816\", \"GOPR0827\", \"GOPR0829\", \"GOPR0832\", \"GOPR0865\", \"GOPR0866\", \"GOPR0951\", \"GOPR0952\", \"GOPR1726\", \"GOPR1732\", \"GOPR1733\", \"GOPR1738\", \"GOPR1739\", \"GOPR1743\", \"GOPR1746\", \"GOPR1750\", \"GOPR1752\", \"GOPR1781\", \"GOPR1787\", \"GOPR1790\", \"GOPR1793\", \"GOPR1797\", \n",
    "\"GOPR1800\", \n",
    "\"GOPR1801\", \n",
    "\"GOPR1802\", \n",
    "\"GOPR1805\", \n",
    "\"GOPR1810\", \n",
    "\"GOPR1813\", \n",
    "\"GOPR1855\", \n",
    "\"GOPR1859\", \n",
    "\"GOPR1865\", \n",
    "\"GOPR2754\"]\n",
    "val = [\"GOPR0805\", \"GOPR0825\", \"GOPR0860\", \"GOPR0864\", \"GOPR1715\", \"GOPR1742\", \"GOPR1857\", \"GOPR2201\", \"GOPR2668\", \"GOPR2692\", \"GOPR2700\", \"GOPR2749\"]\n",
    "test = []\n",
    "\n",
    "print(len(train))\n",
    "print(len(val))\n"
   ]
  },
  {
   "cell_type": "code",
   "execution_count": 28,
   "id": "d0ae28a4",
   "metadata": {
    "ExecuteTime": {
     "end_time": "2022-06-02T15:39:23.005689Z",
     "start_time": "2022-06-02T15:39:22.993866Z"
    }
   },
   "outputs": [
    {
     "data": {
      "text/plain": [
       "['GOPR1738',\n",
       " 'GOPR0865_winter',\n",
       " 'GOPR0816',\n",
       " 'GOPR2668',\n",
       " 'GOPR0951',\n",
       " 'GOPR1742',\n",
       " 'GOPR1800',\n",
       " 'GOPR0827_winter',\n",
       " 'GOPR1859',\n",
       " 'GOPR0860',\n",
       " 'GOPR1781',\n",
       " 'GOPR1793',\n",
       " 'GOPR0952_winter',\n",
       " 'GOPR1800_winter',\n",
       " 'GOPR1790',\n",
       " 'GOPR0812',\n",
       " 'GOPR0825',\n",
       " 'GOPR2201',\n",
       " 'GOPR0815',\n",
       " 'GOPR1865',\n",
       " 'GOPR0866_winter',\n",
       " 'GOPR1733_winter',\n",
       " 'GOPR0813_winter',\n",
       " 'GOPR1750_winter',\n",
       " 'GOPR1743_winter',\n",
       " 'GOPR1738_winter',\n",
       " 'GOPR0832_winter',\n",
       " 'GOPR1797',\n",
       " 'GOPR1715',\n",
       " 'GOPR1810_winter',\n",
       " 'GOPR1726_winter',\n",
       " 'GOPR0816_winter',\n",
       " 'GOPR1787_winter',\n",
       " 'GOPR1805_winter',\n",
       " 'GOPR1733',\n",
       " 'GOPR0866',\n",
       " 'GOPR0864',\n",
       " 'GOPR1752',\n",
       " 'GOPR1859_winter',\n",
       " 'GOPR1787',\n",
       " 'GOPR1746_winter',\n",
       " 'GOPR1797_winter',\n",
       " 'GOPR0813',\n",
       " 'GOPR1855',\n",
       " 'GOPR0827',\n",
       " 'GOPR1801_winter',\n",
       " 'GOPR1793_winter',\n",
       " 'GOPR1857',\n",
       " 'GOPR1752_winter',\n",
       " 'GOPR0952',\n",
       " 'GOPR0951_winter',\n",
       " 'GOPR1732_winter',\n",
       " 'GOPR1739_winter',\n",
       " 'GOPR0809',\n",
       " 'GOPR2692',\n",
       " 'GOPR0829',\n",
       " 'GOPR1801',\n",
       " 'GOPR1865_winter',\n",
       " 'GOPR2754_winter',\n",
       " 'GOPR1781_winter',\n",
       " 'GOPR2749',\n",
       " 'GOPR1790_winter',\n",
       " 'GOPR0809_winter',\n",
       " 'GOPR1732',\n",
       " 'GOPR1726',\n",
       " 'GOPR0829_winter',\n",
       " 'GOPR2700',\n",
       " 'GOPR1810',\n",
       " 'GOPR1743',\n",
       " 'GOPR1746',\n",
       " 'GOPR1805',\n",
       " 'GOPR1739',\n",
       " 'GOPR0815_winter',\n",
       " 'GOPR1813',\n",
       " 'GOPR1750',\n",
       " 'GOPR0812_winter',\n",
       " 'GOPR1855_winter',\n",
       " 'GOPR1813_winter',\n",
       " 'GOPR1802_winter',\n",
       " 'GOPR0805',\n",
       " 'GOPR1802',\n",
       " 'GOPR0865',\n",
       " 'GOPR2754',\n",
       " 'GOPR0832']"
      ]
     },
     "execution_count": 28,
     "metadata": {},
     "output_type": "execute_result"
    }
   ],
   "source": [
    "os.listdir('/media/data1/donghee/VFP290K_mix/')"
   ]
  },
  {
   "cell_type": "code",
   "execution_count": 22,
   "id": "dfdfb838",
   "metadata": {
    "ExecuteTime": {
     "end_time": "2022-06-02T14:12:55.218937Z",
     "start_time": "2022-06-02T14:12:55.145326Z"
    }
   },
   "outputs": [
    {
     "data": {
      "text/plain": [
       "24630"
      ]
     },
     "execution_count": 22,
     "metadata": {},
     "output_type": "execute_result"
    }
   ],
   "source": [
    "path = \"/media/data1/donghee/winter_VFP290K\"\n",
    "path2 = \"/media/data1/donghee/VFP290K\"\n",
    "num_of_imgs = 0\n",
    "for folder in train:\n",
    "    \n",
    "    temp_path = os.path.join(path, folder)\n",
    "    temp_path = os.path.join(temp_path, \"images\")\n",
    "    imgs = os.listdir(temp_path)\n",
    "    num_of_imgs += len(imgs)\n",
    "\n",
    "num_of_imgs"
   ]
  },
  {
   "cell_type": "code",
   "execution_count": null,
   "id": "ee2c90a6",
   "metadata": {},
   "outputs": [],
   "source": []
  },
  {
   "cell_type": "code",
   "execution_count": 11,
   "id": "17aa54bd",
   "metadata": {
    "ExecuteTime": {
     "end_time": "2022-06-02T08:16:19.348030Z",
     "start_time": "2022-06-02T08:16:19.336192Z"
    }
   },
   "outputs": [
    {
     "name": "stdout",
     "output_type": "stream",
     "text": [
      "178\n"
     ]
    },
    {
     "data": {
      "text/plain": [
       "142"
      ]
     },
     "execution_count": 11,
     "metadata": {},
     "output_type": "execute_result"
    }
   ],
   "source": [
    "folders = os.listdir(path)\n",
    "print(len(folders))\n",
    "for i in range(len(train)):\n",
    "    folders.remove(train[i])\n",
    "len(folders)"
   ]
  },
  {
   "cell_type": "code",
   "execution_count": 13,
   "id": "561f070e",
   "metadata": {
    "ExecuteTime": {
     "end_time": "2022-06-02T08:16:48.255475Z",
     "start_time": "2022-06-02T08:16:48.245588Z"
    }
   },
   "outputs": [
    {
     "name": "stdout",
     "output_type": "stream",
     "text": [
      "142\n"
     ]
    },
    {
     "data": {
      "text/plain": [
       "130"
      ]
     },
     "execution_count": 13,
     "metadata": {},
     "output_type": "execute_result"
    }
   ],
   "source": [
    "print(len(folders))\n",
    "for i in range(len(val)):\n",
    "    folders.remove(val[i])\n",
    "len(folders)"
   ]
  },
  {
   "cell_type": "code",
   "execution_count": 14,
   "id": "e3bb6acd",
   "metadata": {
    "ExecuteTime": {
     "end_time": "2022-06-02T08:17:47.519300Z",
     "start_time": "2022-06-02T08:17:47.510496Z"
    },
    "scrolled": true
   },
   "outputs": [
    {
     "data": {
      "text/plain": [
       "['GOPR2680',\n",
       " 'GOPR2662',\n",
       " 'GOPR2715',\n",
       " 'GOPR1735',\n",
       " 'GOPR2708',\n",
       " 'GOPR2710',\n",
       " 'GOPR1749',\n",
       " 'GOPR1881',\n",
       " 'GOPR2669',\n",
       " 'GOPR1877']"
      ]
     },
     "execution_count": 14,
     "metadata": {},
     "output_type": "execute_result"
    }
   ],
   "source": [
    "from random import sample\n",
    "test = sample(folders, 10)\n",
    "  \n",
    "test"
   ]
  },
  {
   "cell_type": "code",
   "execution_count": 23,
   "id": "91cf5872",
   "metadata": {
    "ExecuteTime": {
     "end_time": "2022-06-02T14:18:30.435062Z",
     "start_time": "2022-06-02T14:18:30.425040Z"
    }
   },
   "outputs": [
    {
     "data": {
      "text/plain": [
       "['GOPR0816',\n",
       " 'GOPR1793',\n",
       " 'GOPR0829',\n",
       " 'GOPR1802',\n",
       " 'GOPR1781',\n",
       " 'GOPR0832',\n",
       " 'GOPR2754',\n",
       " 'GOPR0812',\n",
       " 'GOPR1746',\n",
       " 'GOPR1790',\n",
       " 'GOPR0827',\n",
       " 'GOPR1797',\n",
       " 'GOPR1739',\n",
       " 'GOPR1750',\n",
       " 'GOPR1801',\n",
       " 'GOPR0809',\n",
       " 'GOPR0815',\n",
       " 'GOPR0952']"
      ]
     },
     "execution_count": 23,
     "metadata": {},
     "output_type": "execute_result"
    }
   ],
   "source": [
    "from random import sample\n",
    "test = sample(train, 18)\n",
    "  \n",
    "test"
   ]
  },
  {
   "cell_type": "code",
   "execution_count": 24,
   "id": "0f8dd496",
   "metadata": {
    "ExecuteTime": {
     "end_time": "2022-06-02T14:30:39.912403Z",
     "start_time": "2022-06-02T14:30:39.901364Z"
    }
   },
   "outputs": [
    {
     "name": "stdout",
     "output_type": "stream",
     "text": [
      "36\n"
     ]
    },
    {
     "data": {
      "text/plain": [
       "18"
      ]
     },
     "execution_count": 24,
     "metadata": {},
     "output_type": "execute_result"
    }
   ],
   "source": [
    "print(len(train))\n",
    "for i in range(len(test)):\n",
    "    train.remove(test[i])\n",
    "len(train)"
   ]
  },
  {
   "cell_type": "code",
   "execution_count": 25,
   "id": "293d18b2",
   "metadata": {
    "ExecuteTime": {
     "end_time": "2022-06-02T14:30:46.998880Z",
     "start_time": "2022-06-02T14:30:46.990229Z"
    }
   },
   "outputs": [
    {
     "data": {
      "text/plain": [
       "['GOPR0813',\n",
       " 'GOPR0865',\n",
       " 'GOPR0866',\n",
       " 'GOPR0951',\n",
       " 'GOPR1726',\n",
       " 'GOPR1732',\n",
       " 'GOPR1733',\n",
       " 'GOPR1738',\n",
       " 'GOPR1743',\n",
       " 'GOPR1752',\n",
       " 'GOPR1787',\n",
       " 'GOPR1800',\n",
       " 'GOPR1805',\n",
       " 'GOPR1810',\n",
       " 'GOPR1813',\n",
       " 'GOPR1855',\n",
       " 'GOPR1859',\n",
       " 'GOPR1865']"
      ]
     },
     "execution_count": 25,
     "metadata": {},
     "output_type": "execute_result"
    }
   ],
   "source": [
    "train\n"
   ]
  },
  {
   "cell_type": "code",
   "execution_count": null,
   "id": "eb807d50",
   "metadata": {},
   "outputs": [],
   "source": [
    "for folder in folders:\n",
    "    \n",
    "    temp_path = os.path.join(path, folder)\n",
    "    temp_path = os.path.join(temp_path, \"images\")\n",
    "    temp_path2 = os.path.join(path2, folder)\n",
    "    temp_path2 = os.path.join(temp_path2, \"images\")\n",
    "    dataset = ImageDataset(temp_path, exts=['png', 'jpg'])\n",
    "    loader = DataLoader(dataset, batch_size=50, num_workers=4)\n",
    "    dataset2 = ImageDataset(temp_path2, exts=['png', 'jpg'])\n",
    "    loader2 = DataLoader(dataset2, batch_size=50, num_workers=4)\n",
    "    \n",
    "    IS_fake, IS_std_fake = get_inception_score(loader)\n",
    "    IS_real, IS_std_real = get_inception_score(loader2)\n",
    "    \n",
    "    IS_dict_fake[temp_path]=[IS_fake, IS_std_fake]\n",
    "    IS_dict_real[temp_path2]=[IS_real, IS_std_real]\n",
    "    print(f\"REAL: {temp_path2} -> {IS_real}\")\n",
    "    print(f\"FAKE: {temp_path} -> {IS_fake}\")\n",
    "    print(\"===================================\")"
   ]
  },
  {
   "cell_type": "code",
   "execution_count": 31,
   "id": "3eaeb336",
   "metadata": {
    "ExecuteTime": {
     "end_time": "2022-05-13T06:43:50.852629Z",
     "start_time": "2022-05-13T06:43:50.843538Z"
    }
   },
   "outputs": [
    {
     "name": "stdout",
     "output_type": "stream",
     "text": [
      "/media/data1/donghee/VFP290K/GOPR1738/images\n"
     ]
    }
   ],
   "source": [
    "path2 = \"/media/data1/donghee/VFP290K\"\n",
    "temp_path2 = os.path.join(path2, folders[0])\n",
    "temp_path2 = os.path.join(temp_path2, \"images\")\n",
    "print(temp_path2)"
   ]
  },
  {
   "cell_type": "code",
   "execution_count": 25,
   "id": "72faf729",
   "metadata": {
    "ExecuteTime": {
     "end_time": "2022-05-13T06:40:15.225974Z",
     "start_time": "2022-05-13T06:40:15.214615Z"
    }
   },
   "outputs": [],
   "source": [
    "from pytorch_gan_metrics import ImageDataset\n",
    "from torch.utils.data import DataLoader\n",
    "dataset = ImageDataset(temp_path, exts=['png', 'jpg'])\n",
    "loader = DataLoader(dataset, batch_size=50, num_workers=4)"
   ]
  },
  {
   "cell_type": "code",
   "execution_count": 45,
   "id": "aa4d3ee8",
   "metadata": {
    "ExecuteTime": {
     "end_time": "2022-05-13T06:59:48.693477Z",
     "start_time": "2022-05-13T06:59:32.541390Z"
    }
   },
   "outputs": [],
   "source": [
    "IS1, IS_std1 = get_inception_score(loader)\n"
   ]
  },
  {
   "cell_type": "code",
   "execution_count": 27,
   "id": "bf2eed9c",
   "metadata": {
    "ExecuteTime": {
     "end_time": "2022-05-13T06:41:26.921424Z",
     "start_time": "2022-05-13T06:41:26.909758Z"
    }
   },
   "outputs": [
    {
     "data": {
      "text/plain": [
       "1.3659018048220224"
      ]
     },
     "execution_count": 27,
     "metadata": {},
     "output_type": "execute_result"
    }
   ],
   "source": [
    "IS"
   ]
  },
  {
   "cell_type": "code",
   "execution_count": 32,
   "id": "524de1d4",
   "metadata": {
    "ExecuteTime": {
     "end_time": "2022-05-13T06:44:43.237810Z",
     "start_time": "2022-05-13T06:44:32.531120Z"
    }
   },
   "outputs": [
    {
     "data": {
      "text/plain": [
       "<module 'IS' from '/home/donghee/cyclegan/pytorch-CycleGAN-and-pix2pix/IS.py'>"
      ]
     },
     "execution_count": 32,
     "metadata": {},
     "output_type": "execute_result"
    }
   ],
   "source": [
    "from pytorch_gan_metrics import ImageDataset\n",
    "from torch.utils.data import DataLoader\n",
    "dataset2 = ImageDataset(temp_path2, exts=['png', 'jpg'])\n",
    "loader2 = DataLoader(dataset2, batch_size=50, num_workers=4)\n",
    "IS2, IS_std2 = get_inception_score(loader2)\n",
    "IS"
   ]
  },
  {
   "cell_type": "code",
   "execution_count": 33,
   "id": "996f477e",
   "metadata": {
    "ExecuteTime": {
     "end_time": "2022-05-13T06:44:52.791491Z",
     "start_time": "2022-05-13T06:44:52.782612Z"
    }
   },
   "outputs": [
    {
     "data": {
      "text/plain": [
       "1.2029083339071593"
      ]
     },
     "execution_count": 33,
     "metadata": {},
     "output_type": "execute_result"
    }
   ],
   "source": [
    "IS2"
   ]
  },
  {
   "cell_type": "code",
   "execution_count": 16,
   "id": "0ba15108",
   "metadata": {
    "ExecuteTime": {
     "end_time": "2022-05-13T06:30:36.841357Z",
     "start_time": "2022-05-13T06:30:36.830271Z"
    }
   },
   "outputs": [
    {
     "name": "stdout",
     "output_type": "stream",
     "text": [
      "/media/data1/donghee/winter_VFP290K/GOPR1738/images\n"
     ]
    }
   ],
   "source": [
    "path = \"/media/data1/donghee/winter_VFP290K\"\n",
    "folders = os.listdir(path)\n",
    "temp_path = os.path.join(path, folders[0])\n",
    "temp_path = os.path.join(temp_path, \"images\")\n",
    "print(temp_path)\n",
    "os.path.isdir(temp_path)\n",
    "IMAGE_EXTENSIONS = {'bmp', 'jpg', 'jpeg', 'pgm', 'png', 'ppm',\n",
    "                    'tif', 'tiff', 'webp'}\n",
    "path = pathlib.Path(temp_path)"
   ]
  },
  {
   "cell_type": "code",
   "execution_count": 17,
   "id": "df4f4fbd",
   "metadata": {
    "ExecuteTime": {
     "end_time": "2022-05-13T06:30:37.839208Z",
     "start_time": "2022-05-13T06:30:37.807410Z"
    }
   },
   "outputs": [
    {
     "data": {
      "text/plain": [
       "[PosixPath('/media/data1/donghee/winter_VFP290K/GOPR1738/images/GOPR1738_00000_fake.png'),\n",
       " PosixPath('/media/data1/donghee/winter_VFP290K/GOPR1738/images/GOPR1738_00001_fake.png'),\n",
       " PosixPath('/media/data1/donghee/winter_VFP290K/GOPR1738/images/GOPR1738_00002_fake.png'),\n",
       " PosixPath('/media/data1/donghee/winter_VFP290K/GOPR1738/images/GOPR1738_00003_fake.png'),\n",
       " PosixPath('/media/data1/donghee/winter_VFP290K/GOPR1738/images/GOPR1738_00004_fake.png'),\n",
       " PosixPath('/media/data1/donghee/winter_VFP290K/GOPR1738/images/GOPR1738_00005_fake.png'),\n",
       " PosixPath('/media/data1/donghee/winter_VFP290K/GOPR1738/images/GOPR1738_00006_fake.png'),\n",
       " PosixPath('/media/data1/donghee/winter_VFP290K/GOPR1738/images/GOPR1738_00007_fake.png'),\n",
       " PosixPath('/media/data1/donghee/winter_VFP290K/GOPR1738/images/GOPR1738_00008_fake.png'),\n",
       " PosixPath('/media/data1/donghee/winter_VFP290K/GOPR1738/images/GOPR1738_00009_fake.png'),\n",
       " PosixPath('/media/data1/donghee/winter_VFP290K/GOPR1738/images/GOPR1738_00010_fake.png'),\n",
       " PosixPath('/media/data1/donghee/winter_VFP290K/GOPR1738/images/GOPR1738_00011_fake.png'),\n",
       " PosixPath('/media/data1/donghee/winter_VFP290K/GOPR1738/images/GOPR1738_00012_fake.png'),\n",
       " PosixPath('/media/data1/donghee/winter_VFP290K/GOPR1738/images/GOPR1738_00013_fake.png'),\n",
       " PosixPath('/media/data1/donghee/winter_VFP290K/GOPR1738/images/GOPR1738_00014_fake.png'),\n",
       " PosixPath('/media/data1/donghee/winter_VFP290K/GOPR1738/images/GOPR1738_00015_fake.png'),\n",
       " PosixPath('/media/data1/donghee/winter_VFP290K/GOPR1738/images/GOPR1738_00016_fake.png'),\n",
       " PosixPath('/media/data1/donghee/winter_VFP290K/GOPR1738/images/GOPR1738_00017_fake.png'),\n",
       " PosixPath('/media/data1/donghee/winter_VFP290K/GOPR1738/images/GOPR1738_00018_fake.png'),\n",
       " PosixPath('/media/data1/donghee/winter_VFP290K/GOPR1738/images/GOPR1738_00019_fake.png'),\n",
       " PosixPath('/media/data1/donghee/winter_VFP290K/GOPR1738/images/GOPR1738_00020_fake.png'),\n",
       " PosixPath('/media/data1/donghee/winter_VFP290K/GOPR1738/images/GOPR1738_00021_fake.png'),\n",
       " PosixPath('/media/data1/donghee/winter_VFP290K/GOPR1738/images/GOPR1738_00022_fake.png'),\n",
       " PosixPath('/media/data1/donghee/winter_VFP290K/GOPR1738/images/GOPR1738_00023_fake.png'),\n",
       " PosixPath('/media/data1/donghee/winter_VFP290K/GOPR1738/images/GOPR1738_00024_fake.png'),\n",
       " PosixPath('/media/data1/donghee/winter_VFP290K/GOPR1738/images/GOPR1738_00025_fake.png'),\n",
       " PosixPath('/media/data1/donghee/winter_VFP290K/GOPR1738/images/GOPR1738_00026_fake.png'),\n",
       " PosixPath('/media/data1/donghee/winter_VFP290K/GOPR1738/images/GOPR1738_00027_fake.png'),\n",
       " PosixPath('/media/data1/donghee/winter_VFP290K/GOPR1738/images/GOPR1738_00028_fake.png'),\n",
       " PosixPath('/media/data1/donghee/winter_VFP290K/GOPR1738/images/GOPR1738_00029_fake.png'),\n",
       " PosixPath('/media/data1/donghee/winter_VFP290K/GOPR1738/images/GOPR1738_00030_fake.png'),\n",
       " PosixPath('/media/data1/donghee/winter_VFP290K/GOPR1738/images/GOPR1738_00031_fake.png'),\n",
       " PosixPath('/media/data1/donghee/winter_VFP290K/GOPR1738/images/GOPR1738_00032_fake.png'),\n",
       " PosixPath('/media/data1/donghee/winter_VFP290K/GOPR1738/images/GOPR1738_00033_fake.png'),\n",
       " PosixPath('/media/data1/donghee/winter_VFP290K/GOPR1738/images/GOPR1738_00034_fake.png'),\n",
       " PosixPath('/media/data1/donghee/winter_VFP290K/GOPR1738/images/GOPR1738_00035_fake.png'),\n",
       " PosixPath('/media/data1/donghee/winter_VFP290K/GOPR1738/images/GOPR1738_00036_fake.png'),\n",
       " PosixPath('/media/data1/donghee/winter_VFP290K/GOPR1738/images/GOPR1738_00037_fake.png'),\n",
       " PosixPath('/media/data1/donghee/winter_VFP290K/GOPR1738/images/GOPR1738_00038_fake.png'),\n",
       " PosixPath('/media/data1/donghee/winter_VFP290K/GOPR1738/images/GOPR1738_00039_fake.png'),\n",
       " PosixPath('/media/data1/donghee/winter_VFP290K/GOPR1738/images/GOPR1738_00040_fake.png'),\n",
       " PosixPath('/media/data1/donghee/winter_VFP290K/GOPR1738/images/GOPR1738_00041_fake.png'),\n",
       " PosixPath('/media/data1/donghee/winter_VFP290K/GOPR1738/images/GOPR1738_00042_fake.png'),\n",
       " PosixPath('/media/data1/donghee/winter_VFP290K/GOPR1738/images/GOPR1738_00043_fake.png'),\n",
       " PosixPath('/media/data1/donghee/winter_VFP290K/GOPR1738/images/GOPR1738_00044_fake.png'),\n",
       " PosixPath('/media/data1/donghee/winter_VFP290K/GOPR1738/images/GOPR1738_00045_fake.png'),\n",
       " PosixPath('/media/data1/donghee/winter_VFP290K/GOPR1738/images/GOPR1738_00046_fake.png'),\n",
       " PosixPath('/media/data1/donghee/winter_VFP290K/GOPR1738/images/GOPR1738_00047_fake.png'),\n",
       " PosixPath('/media/data1/donghee/winter_VFP290K/GOPR1738/images/GOPR1738_00048_fake.png'),\n",
       " PosixPath('/media/data1/donghee/winter_VFP290K/GOPR1738/images/GOPR1738_00049_fake.png'),\n",
       " PosixPath('/media/data1/donghee/winter_VFP290K/GOPR1738/images/GOPR1738_00050_fake.png'),\n",
       " PosixPath('/media/data1/donghee/winter_VFP290K/GOPR1738/images/GOPR1738_00051_fake.png'),\n",
       " PosixPath('/media/data1/donghee/winter_VFP290K/GOPR1738/images/GOPR1738_00052_fake.png'),\n",
       " PosixPath('/media/data1/donghee/winter_VFP290K/GOPR1738/images/GOPR1738_00053_fake.png'),\n",
       " PosixPath('/media/data1/donghee/winter_VFP290K/GOPR1738/images/GOPR1738_00054_fake.png'),\n",
       " PosixPath('/media/data1/donghee/winter_VFP290K/GOPR1738/images/GOPR1738_00055_fake.png'),\n",
       " PosixPath('/media/data1/donghee/winter_VFP290K/GOPR1738/images/GOPR1738_00056_fake.png'),\n",
       " PosixPath('/media/data1/donghee/winter_VFP290K/GOPR1738/images/GOPR1738_00057_fake.png'),\n",
       " PosixPath('/media/data1/donghee/winter_VFP290K/GOPR1738/images/GOPR1738_00058_fake.png'),\n",
       " PosixPath('/media/data1/donghee/winter_VFP290K/GOPR1738/images/GOPR1738_00059_fake.png'),\n",
       " PosixPath('/media/data1/donghee/winter_VFP290K/GOPR1738/images/GOPR1738_00060_fake.png'),\n",
       " PosixPath('/media/data1/donghee/winter_VFP290K/GOPR1738/images/GOPR1738_00061_fake.png'),\n",
       " PosixPath('/media/data1/donghee/winter_VFP290K/GOPR1738/images/GOPR1738_00062_fake.png'),\n",
       " PosixPath('/media/data1/donghee/winter_VFP290K/GOPR1738/images/GOPR1738_00063_fake.png'),\n",
       " PosixPath('/media/data1/donghee/winter_VFP290K/GOPR1738/images/GOPR1738_00064_fake.png'),\n",
       " PosixPath('/media/data1/donghee/winter_VFP290K/GOPR1738/images/GOPR1738_00065_fake.png'),\n",
       " PosixPath('/media/data1/donghee/winter_VFP290K/GOPR1738/images/GOPR1738_00066_fake.png'),\n",
       " PosixPath('/media/data1/donghee/winter_VFP290K/GOPR1738/images/GOPR1738_00067_fake.png'),\n",
       " PosixPath('/media/data1/donghee/winter_VFP290K/GOPR1738/images/GOPR1738_00068_fake.png'),\n",
       " PosixPath('/media/data1/donghee/winter_VFP290K/GOPR1738/images/GOPR1738_00069_fake.png'),\n",
       " PosixPath('/media/data1/donghee/winter_VFP290K/GOPR1738/images/GOPR1738_00070_fake.png'),\n",
       " PosixPath('/media/data1/donghee/winter_VFP290K/GOPR1738/images/GOPR1738_00071_fake.png'),\n",
       " PosixPath('/media/data1/donghee/winter_VFP290K/GOPR1738/images/GOPR1738_00072_fake.png'),\n",
       " PosixPath('/media/data1/donghee/winter_VFP290K/GOPR1738/images/GOPR1738_00073_fake.png'),\n",
       " PosixPath('/media/data1/donghee/winter_VFP290K/GOPR1738/images/GOPR1738_00074_fake.png'),\n",
       " PosixPath('/media/data1/donghee/winter_VFP290K/GOPR1738/images/GOPR1738_00075_fake.png'),\n",
       " PosixPath('/media/data1/donghee/winter_VFP290K/GOPR1738/images/GOPR1738_00076_fake.png'),\n",
       " PosixPath('/media/data1/donghee/winter_VFP290K/GOPR1738/images/GOPR1738_00077_fake.png'),\n",
       " PosixPath('/media/data1/donghee/winter_VFP290K/GOPR1738/images/GOPR1738_00078_fake.png'),\n",
       " PosixPath('/media/data1/donghee/winter_VFP290K/GOPR1738/images/GOPR1738_00079_fake.png'),\n",
       " PosixPath('/media/data1/donghee/winter_VFP290K/GOPR1738/images/GOPR1738_00080_fake.png'),\n",
       " PosixPath('/media/data1/donghee/winter_VFP290K/GOPR1738/images/GOPR1738_00081_fake.png'),\n",
       " PosixPath('/media/data1/donghee/winter_VFP290K/GOPR1738/images/GOPR1738_00082_fake.png'),\n",
       " PosixPath('/media/data1/donghee/winter_VFP290K/GOPR1738/images/GOPR1738_00083_fake.png'),\n",
       " PosixPath('/media/data1/donghee/winter_VFP290K/GOPR1738/images/GOPR1738_00084_fake.png'),\n",
       " PosixPath('/media/data1/donghee/winter_VFP290K/GOPR1738/images/GOPR1738_00085_fake.png'),\n",
       " PosixPath('/media/data1/donghee/winter_VFP290K/GOPR1738/images/GOPR1738_00086_fake.png'),\n",
       " PosixPath('/media/data1/donghee/winter_VFP290K/GOPR1738/images/GOPR1738_00087_fake.png'),\n",
       " PosixPath('/media/data1/donghee/winter_VFP290K/GOPR1738/images/GOPR1738_00088_fake.png'),\n",
       " PosixPath('/media/data1/donghee/winter_VFP290K/GOPR1738/images/GOPR1738_00089_fake.png'),\n",
       " PosixPath('/media/data1/donghee/winter_VFP290K/GOPR1738/images/GOPR1738_00090_fake.png'),\n",
       " PosixPath('/media/data1/donghee/winter_VFP290K/GOPR1738/images/GOPR1738_00091_fake.png'),\n",
       " PosixPath('/media/data1/donghee/winter_VFP290K/GOPR1738/images/GOPR1738_00092_fake.png'),\n",
       " PosixPath('/media/data1/donghee/winter_VFP290K/GOPR1738/images/GOPR1738_00093_fake.png'),\n",
       " PosixPath('/media/data1/donghee/winter_VFP290K/GOPR1738/images/GOPR1738_00094_fake.png'),\n",
       " PosixPath('/media/data1/donghee/winter_VFP290K/GOPR1738/images/GOPR1738_00095_fake.png'),\n",
       " PosixPath('/media/data1/donghee/winter_VFP290K/GOPR1738/images/GOPR1738_00096_fake.png'),\n",
       " PosixPath('/media/data1/donghee/winter_VFP290K/GOPR1738/images/GOPR1738_00097_fake.png'),\n",
       " PosixPath('/media/data1/donghee/winter_VFP290K/GOPR1738/images/GOPR1738_00098_fake.png'),\n",
       " PosixPath('/media/data1/donghee/winter_VFP290K/GOPR1738/images/GOPR1738_00099_fake.png'),\n",
       " PosixPath('/media/data1/donghee/winter_VFP290K/GOPR1738/images/GOPR1738_00100_fake.png'),\n",
       " PosixPath('/media/data1/donghee/winter_VFP290K/GOPR1738/images/GOPR1738_00101_fake.png'),\n",
       " PosixPath('/media/data1/donghee/winter_VFP290K/GOPR1738/images/GOPR1738_00102_fake.png'),\n",
       " PosixPath('/media/data1/donghee/winter_VFP290K/GOPR1738/images/GOPR1738_00103_fake.png'),\n",
       " PosixPath('/media/data1/donghee/winter_VFP290K/GOPR1738/images/GOPR1738_00104_fake.png'),\n",
       " PosixPath('/media/data1/donghee/winter_VFP290K/GOPR1738/images/GOPR1738_00105_fake.png'),\n",
       " PosixPath('/media/data1/donghee/winter_VFP290K/GOPR1738/images/GOPR1738_00106_fake.png'),\n",
       " PosixPath('/media/data1/donghee/winter_VFP290K/GOPR1738/images/GOPR1738_00107_fake.png'),\n",
       " PosixPath('/media/data1/donghee/winter_VFP290K/GOPR1738/images/GOPR1738_00108_fake.png'),\n",
       " PosixPath('/media/data1/donghee/winter_VFP290K/GOPR1738/images/GOPR1738_00109_fake.png'),\n",
       " PosixPath('/media/data1/donghee/winter_VFP290K/GOPR1738/images/GOPR1738_00110_fake.png'),\n",
       " PosixPath('/media/data1/donghee/winter_VFP290K/GOPR1738/images/GOPR1738_00111_fake.png'),\n",
       " PosixPath('/media/data1/donghee/winter_VFP290K/GOPR1738/images/GOPR1738_00112_fake.png'),\n",
       " PosixPath('/media/data1/donghee/winter_VFP290K/GOPR1738/images/GOPR1738_00113_fake.png'),\n",
       " PosixPath('/media/data1/donghee/winter_VFP290K/GOPR1738/images/GOPR1738_00114_fake.png'),\n",
       " PosixPath('/media/data1/donghee/winter_VFP290K/GOPR1738/images/GOPR1738_00115_fake.png'),\n",
       " PosixPath('/media/data1/donghee/winter_VFP290K/GOPR1738/images/GOPR1738_00116_fake.png'),\n",
       " PosixPath('/media/data1/donghee/winter_VFP290K/GOPR1738/images/GOPR1738_00117_fake.png'),\n",
       " PosixPath('/media/data1/donghee/winter_VFP290K/GOPR1738/images/GOPR1738_00118_fake.png'),\n",
       " PosixPath('/media/data1/donghee/winter_VFP290K/GOPR1738/images/GOPR1738_00119_fake.png'),\n",
       " PosixPath('/media/data1/donghee/winter_VFP290K/GOPR1738/images/GOPR1738_00120_fake.png'),\n",
       " PosixPath('/media/data1/donghee/winter_VFP290K/GOPR1738/images/GOPR1738_00121_fake.png'),\n",
       " PosixPath('/media/data1/donghee/winter_VFP290K/GOPR1738/images/GOPR1738_00122_fake.png'),\n",
       " PosixPath('/media/data1/donghee/winter_VFP290K/GOPR1738/images/GOPR1738_00123_fake.png'),\n",
       " PosixPath('/media/data1/donghee/winter_VFP290K/GOPR1738/images/GOPR1738_00124_fake.png'),\n",
       " PosixPath('/media/data1/donghee/winter_VFP290K/GOPR1738/images/GOPR1738_00125_fake.png'),\n",
       " PosixPath('/media/data1/donghee/winter_VFP290K/GOPR1738/images/GOPR1738_00126_fake.png'),\n",
       " PosixPath('/media/data1/donghee/winter_VFP290K/GOPR1738/images/GOPR1738_00127_fake.png'),\n",
       " PosixPath('/media/data1/donghee/winter_VFP290K/GOPR1738/images/GOPR1738_00128_fake.png'),\n",
       " PosixPath('/media/data1/donghee/winter_VFP290K/GOPR1738/images/GOPR1738_00129_fake.png'),\n",
       " PosixPath('/media/data1/donghee/winter_VFP290K/GOPR1738/images/GOPR1738_00130_fake.png'),\n",
       " PosixPath('/media/data1/donghee/winter_VFP290K/GOPR1738/images/GOPR1738_00131_fake.png'),\n",
       " PosixPath('/media/data1/donghee/winter_VFP290K/GOPR1738/images/GOPR1738_00132_fake.png'),\n",
       " PosixPath('/media/data1/donghee/winter_VFP290K/GOPR1738/images/GOPR1738_00133_fake.png'),\n",
       " PosixPath('/media/data1/donghee/winter_VFP290K/GOPR1738/images/GOPR1738_00134_fake.png'),\n",
       " PosixPath('/media/data1/donghee/winter_VFP290K/GOPR1738/images/GOPR1738_00135_fake.png'),\n",
       " PosixPath('/media/data1/donghee/winter_VFP290K/GOPR1738/images/GOPR1738_00136_fake.png'),\n",
       " PosixPath('/media/data1/donghee/winter_VFP290K/GOPR1738/images/GOPR1738_00137_fake.png'),\n",
       " PosixPath('/media/data1/donghee/winter_VFP290K/GOPR1738/images/GOPR1738_00138_fake.png'),\n",
       " PosixPath('/media/data1/donghee/winter_VFP290K/GOPR1738/images/GOPR1738_00139_fake.png'),\n",
       " PosixPath('/media/data1/donghee/winter_VFP290K/GOPR1738/images/GOPR1738_00140_fake.png'),\n",
       " PosixPath('/media/data1/donghee/winter_VFP290K/GOPR1738/images/GOPR1738_00141_fake.png'),\n",
       " PosixPath('/media/data1/donghee/winter_VFP290K/GOPR1738/images/GOPR1738_00142_fake.png'),\n",
       " PosixPath('/media/data1/donghee/winter_VFP290K/GOPR1738/images/GOPR1738_00143_fake.png'),\n",
       " PosixPath('/media/data1/donghee/winter_VFP290K/GOPR1738/images/GOPR1738_00144_fake.png'),\n",
       " PosixPath('/media/data1/donghee/winter_VFP290K/GOPR1738/images/GOPR1738_00145_fake.png'),\n",
       " PosixPath('/media/data1/donghee/winter_VFP290K/GOPR1738/images/GOPR1738_00146_fake.png'),\n",
       " PosixPath('/media/data1/donghee/winter_VFP290K/GOPR1738/images/GOPR1738_00147_fake.png'),\n",
       " PosixPath('/media/data1/donghee/winter_VFP290K/GOPR1738/images/GOPR1738_00148_fake.png'),\n",
       " PosixPath('/media/data1/donghee/winter_VFP290K/GOPR1738/images/GOPR1738_00149_fake.png'),\n",
       " PosixPath('/media/data1/donghee/winter_VFP290K/GOPR1738/images/GOPR1738_00150_fake.png'),\n",
       " PosixPath('/media/data1/donghee/winter_VFP290K/GOPR1738/images/GOPR1738_00151_fake.png'),\n",
       " PosixPath('/media/data1/donghee/winter_VFP290K/GOPR1738/images/GOPR1738_00152_fake.png'),\n",
       " PosixPath('/media/data1/donghee/winter_VFP290K/GOPR1738/images/GOPR1738_00153_fake.png'),\n",
       " PosixPath('/media/data1/donghee/winter_VFP290K/GOPR1738/images/GOPR1738_00154_fake.png'),\n",
       " PosixPath('/media/data1/donghee/winter_VFP290K/GOPR1738/images/GOPR1738_00155_fake.png'),\n",
       " PosixPath('/media/data1/donghee/winter_VFP290K/GOPR1738/images/GOPR1738_00156_fake.png'),\n",
       " PosixPath('/media/data1/donghee/winter_VFP290K/GOPR1738/images/GOPR1738_00157_fake.png'),\n",
       " PosixPath('/media/data1/donghee/winter_VFP290K/GOPR1738/images/GOPR1738_00158_fake.png'),\n",
       " PosixPath('/media/data1/donghee/winter_VFP290K/GOPR1738/images/GOPR1738_00159_fake.png'),\n",
       " PosixPath('/media/data1/donghee/winter_VFP290K/GOPR1738/images/GOPR1738_00160_fake.png'),\n",
       " PosixPath('/media/data1/donghee/winter_VFP290K/GOPR1738/images/GOPR1738_00161_fake.png'),\n",
       " PosixPath('/media/data1/donghee/winter_VFP290K/GOPR1738/images/GOPR1738_00162_fake.png'),\n",
       " PosixPath('/media/data1/donghee/winter_VFP290K/GOPR1738/images/GOPR1738_00163_fake.png'),\n",
       " PosixPath('/media/data1/donghee/winter_VFP290K/GOPR1738/images/GOPR1738_00164_fake.png'),\n",
       " PosixPath('/media/data1/donghee/winter_VFP290K/GOPR1738/images/GOPR1738_00165_fake.png'),\n",
       " PosixPath('/media/data1/donghee/winter_VFP290K/GOPR1738/images/GOPR1738_00166_fake.png'),\n",
       " PosixPath('/media/data1/donghee/winter_VFP290K/GOPR1738/images/GOPR1738_00167_fake.png'),\n",
       " PosixPath('/media/data1/donghee/winter_VFP290K/GOPR1738/images/GOPR1738_00168_fake.png'),\n",
       " PosixPath('/media/data1/donghee/winter_VFP290K/GOPR1738/images/GOPR1738_00169_fake.png'),\n",
       " PosixPath('/media/data1/donghee/winter_VFP290K/GOPR1738/images/GOPR1738_00170_fake.png'),\n",
       " PosixPath('/media/data1/donghee/winter_VFP290K/GOPR1738/images/GOPR1738_00171_fake.png'),\n",
       " PosixPath('/media/data1/donghee/winter_VFP290K/GOPR1738/images/GOPR1738_00172_fake.png'),\n",
       " PosixPath('/media/data1/donghee/winter_VFP290K/GOPR1738/images/GOPR1738_00173_fake.png'),\n",
       " PosixPath('/media/data1/donghee/winter_VFP290K/GOPR1738/images/GOPR1738_00174_fake.png'),\n",
       " PosixPath('/media/data1/donghee/winter_VFP290K/GOPR1738/images/GOPR1738_00175_fake.png'),\n",
       " PosixPath('/media/data1/donghee/winter_VFP290K/GOPR1738/images/GOPR1738_00176_fake.png'),\n",
       " PosixPath('/media/data1/donghee/winter_VFP290K/GOPR1738/images/GOPR1738_00177_fake.png'),\n",
       " PosixPath('/media/data1/donghee/winter_VFP290K/GOPR1738/images/GOPR1738_00178_fake.png'),\n",
       " PosixPath('/media/data1/donghee/winter_VFP290K/GOPR1738/images/GOPR1738_00179_fake.png'),\n",
       " PosixPath('/media/data1/donghee/winter_VFP290K/GOPR1738/images/GOPR1738_00180_fake.png'),\n",
       " PosixPath('/media/data1/donghee/winter_VFP290K/GOPR1738/images/GOPR1738_00181_fake.png'),\n",
       " PosixPath('/media/data1/donghee/winter_VFP290K/GOPR1738/images/GOPR1738_00182_fake.png'),\n",
       " PosixPath('/media/data1/donghee/winter_VFP290K/GOPR1738/images/GOPR1738_00183_fake.png'),\n",
       " PosixPath('/media/data1/donghee/winter_VFP290K/GOPR1738/images/GOPR1738_00184_fake.png'),\n",
       " PosixPath('/media/data1/donghee/winter_VFP290K/GOPR1738/images/GOPR1738_00185_fake.png'),\n",
       " PosixPath('/media/data1/donghee/winter_VFP290K/GOPR1738/images/GOPR1738_00186_fake.png'),\n",
       " PosixPath('/media/data1/donghee/winter_VFP290K/GOPR1738/images/GOPR1738_00187_fake.png'),\n",
       " PosixPath('/media/data1/donghee/winter_VFP290K/GOPR1738/images/GOPR1738_00188_fake.png'),\n",
       " PosixPath('/media/data1/donghee/winter_VFP290K/GOPR1738/images/GOPR1738_00189_fake.png'),\n",
       " PosixPath('/media/data1/donghee/winter_VFP290K/GOPR1738/images/GOPR1738_00190_fake.png'),\n",
       " PosixPath('/media/data1/donghee/winter_VFP290K/GOPR1738/images/GOPR1738_00191_fake.png'),\n",
       " PosixPath('/media/data1/donghee/winter_VFP290K/GOPR1738/images/GOPR1738_00192_fake.png'),\n",
       " PosixPath('/media/data1/donghee/winter_VFP290K/GOPR1738/images/GOPR1738_00193_fake.png'),\n",
       " PosixPath('/media/data1/donghee/winter_VFP290K/GOPR1738/images/GOPR1738_00194_fake.png'),\n",
       " PosixPath('/media/data1/donghee/winter_VFP290K/GOPR1738/images/GOPR1738_00195_fake.png'),\n",
       " PosixPath('/media/data1/donghee/winter_VFP290K/GOPR1738/images/GOPR1738_00196_fake.png'),\n",
       " PosixPath('/media/data1/donghee/winter_VFP290K/GOPR1738/images/GOPR1738_00197_fake.png'),\n",
       " PosixPath('/media/data1/donghee/winter_VFP290K/GOPR1738/images/GOPR1738_00198_fake.png'),\n",
       " PosixPath('/media/data1/donghee/winter_VFP290K/GOPR1738/images/GOPR1738_00199_fake.png'),\n",
       " PosixPath('/media/data1/donghee/winter_VFP290K/GOPR1738/images/GOPR1738_00200_fake.png'),\n",
       " PosixPath('/media/data1/donghee/winter_VFP290K/GOPR1738/images/GOPR1738_00201_fake.png'),\n",
       " PosixPath('/media/data1/donghee/winter_VFP290K/GOPR1738/images/GOPR1738_00202_fake.png'),\n",
       " PosixPath('/media/data1/donghee/winter_VFP290K/GOPR1738/images/GOPR1738_00203_fake.png'),\n",
       " PosixPath('/media/data1/donghee/winter_VFP290K/GOPR1738/images/GOPR1738_00204_fake.png'),\n",
       " PosixPath('/media/data1/donghee/winter_VFP290K/GOPR1738/images/GOPR1738_00205_fake.png'),\n",
       " PosixPath('/media/data1/donghee/winter_VFP290K/GOPR1738/images/GOPR1738_00206_fake.png'),\n",
       " PosixPath('/media/data1/donghee/winter_VFP290K/GOPR1738/images/GOPR1738_00207_fake.png'),\n",
       " PosixPath('/media/data1/donghee/winter_VFP290K/GOPR1738/images/GOPR1738_00208_fake.png'),\n",
       " PosixPath('/media/data1/donghee/winter_VFP290K/GOPR1738/images/GOPR1738_00209_fake.png'),\n",
       " PosixPath('/media/data1/donghee/winter_VFP290K/GOPR1738/images/GOPR1738_00210_fake.png'),\n",
       " PosixPath('/media/data1/donghee/winter_VFP290K/GOPR1738/images/GOPR1738_00211_fake.png'),\n",
       " PosixPath('/media/data1/donghee/winter_VFP290K/GOPR1738/images/GOPR1738_00212_fake.png'),\n",
       " PosixPath('/media/data1/donghee/winter_VFP290K/GOPR1738/images/GOPR1738_00213_fake.png'),\n",
       " PosixPath('/media/data1/donghee/winter_VFP290K/GOPR1738/images/GOPR1738_00214_fake.png'),\n",
       " PosixPath('/media/data1/donghee/winter_VFP290K/GOPR1738/images/GOPR1738_00215_fake.png'),\n",
       " PosixPath('/media/data1/donghee/winter_VFP290K/GOPR1738/images/GOPR1738_00216_fake.png'),\n",
       " PosixPath('/media/data1/donghee/winter_VFP290K/GOPR1738/images/GOPR1738_00217_fake.png'),\n",
       " PosixPath('/media/data1/donghee/winter_VFP290K/GOPR1738/images/GOPR1738_00218_fake.png'),\n",
       " PosixPath('/media/data1/donghee/winter_VFP290K/GOPR1738/images/GOPR1738_00219_fake.png'),\n",
       " PosixPath('/media/data1/donghee/winter_VFP290K/GOPR1738/images/GOPR1738_00220_fake.png'),\n",
       " PosixPath('/media/data1/donghee/winter_VFP290K/GOPR1738/images/GOPR1738_00221_fake.png'),\n",
       " PosixPath('/media/data1/donghee/winter_VFP290K/GOPR1738/images/GOPR1738_00222_fake.png'),\n",
       " PosixPath('/media/data1/donghee/winter_VFP290K/GOPR1738/images/GOPR1738_00223_fake.png'),\n",
       " PosixPath('/media/data1/donghee/winter_VFP290K/GOPR1738/images/GOPR1738_00224_fake.png'),\n",
       " PosixPath('/media/data1/donghee/winter_VFP290K/GOPR1738/images/GOPR1738_00225_fake.png'),\n",
       " PosixPath('/media/data1/donghee/winter_VFP290K/GOPR1738/images/GOPR1738_00226_fake.png'),\n",
       " PosixPath('/media/data1/donghee/winter_VFP290K/GOPR1738/images/GOPR1738_00227_fake.png'),\n",
       " PosixPath('/media/data1/donghee/winter_VFP290K/GOPR1738/images/GOPR1738_00228_fake.png'),\n",
       " PosixPath('/media/data1/donghee/winter_VFP290K/GOPR1738/images/GOPR1738_00229_fake.png'),\n",
       " PosixPath('/media/data1/donghee/winter_VFP290K/GOPR1738/images/GOPR1738_00230_fake.png'),\n",
       " PosixPath('/media/data1/donghee/winter_VFP290K/GOPR1738/images/GOPR1738_00231_fake.png'),\n",
       " PosixPath('/media/data1/donghee/winter_VFP290K/GOPR1738/images/GOPR1738_00232_fake.png'),\n",
       " PosixPath('/media/data1/donghee/winter_VFP290K/GOPR1738/images/GOPR1738_00233_fake.png'),\n",
       " PosixPath('/media/data1/donghee/winter_VFP290K/GOPR1738/images/GOPR1738_00234_fake.png'),\n",
       " PosixPath('/media/data1/donghee/winter_VFP290K/GOPR1738/images/GOPR1738_00235_fake.png'),\n",
       " PosixPath('/media/data1/donghee/winter_VFP290K/GOPR1738/images/GOPR1738_00236_fake.png'),\n",
       " PosixPath('/media/data1/donghee/winter_VFP290K/GOPR1738/images/GOPR1738_00237_fake.png'),\n",
       " PosixPath('/media/data1/donghee/winter_VFP290K/GOPR1738/images/GOPR1738_00238_fake.png'),\n",
       " PosixPath('/media/data1/donghee/winter_VFP290K/GOPR1738/images/GOPR1738_00239_fake.png'),\n",
       " PosixPath('/media/data1/donghee/winter_VFP290K/GOPR1738/images/GOPR1738_00240_fake.png'),\n",
       " PosixPath('/media/data1/donghee/winter_VFP290K/GOPR1738/images/GOPR1738_00241_fake.png'),\n",
       " PosixPath('/media/data1/donghee/winter_VFP290K/GOPR1738/images/GOPR1738_00242_fake.png'),\n",
       " PosixPath('/media/data1/donghee/winter_VFP290K/GOPR1738/images/GOPR1738_00243_fake.png'),\n",
       " PosixPath('/media/data1/donghee/winter_VFP290K/GOPR1738/images/GOPR1738_00244_fake.png'),\n",
       " PosixPath('/media/data1/donghee/winter_VFP290K/GOPR1738/images/GOPR1738_00245_fake.png'),\n",
       " PosixPath('/media/data1/donghee/winter_VFP290K/GOPR1738/images/GOPR1738_00246_fake.png'),\n",
       " PosixPath('/media/data1/donghee/winter_VFP290K/GOPR1738/images/GOPR1738_00247_fake.png'),\n",
       " PosixPath('/media/data1/donghee/winter_VFP290K/GOPR1738/images/GOPR1738_00248_fake.png'),\n",
       " PosixPath('/media/data1/donghee/winter_VFP290K/GOPR1738/images/GOPR1738_00249_fake.png'),\n",
       " PosixPath('/media/data1/donghee/winter_VFP290K/GOPR1738/images/GOPR1738_00250_fake.png'),\n",
       " PosixPath('/media/data1/donghee/winter_VFP290K/GOPR1738/images/GOPR1738_00251_fake.png'),\n",
       " PosixPath('/media/data1/donghee/winter_VFP290K/GOPR1738/images/GOPR1738_00252_fake.png'),\n",
       " PosixPath('/media/data1/donghee/winter_VFP290K/GOPR1738/images/GOPR1738_00253_fake.png'),\n",
       " PosixPath('/media/data1/donghee/winter_VFP290K/GOPR1738/images/GOPR1738_00254_fake.png'),\n",
       " PosixPath('/media/data1/donghee/winter_VFP290K/GOPR1738/images/GOPR1738_00255_fake.png'),\n",
       " PosixPath('/media/data1/donghee/winter_VFP290K/GOPR1738/images/GOPR1738_00256_fake.png'),\n",
       " PosixPath('/media/data1/donghee/winter_VFP290K/GOPR1738/images/GOPR1738_00257_fake.png'),\n",
       " PosixPath('/media/data1/donghee/winter_VFP290K/GOPR1738/images/GOPR1738_00258_fake.png'),\n",
       " PosixPath('/media/data1/donghee/winter_VFP290K/GOPR1738/images/GOPR1738_00259_fake.png'),\n",
       " PosixPath('/media/data1/donghee/winter_VFP290K/GOPR1738/images/GOPR1738_00260_fake.png'),\n",
       " PosixPath('/media/data1/donghee/winter_VFP290K/GOPR1738/images/GOPR1738_00261_fake.png'),\n",
       " PosixPath('/media/data1/donghee/winter_VFP290K/GOPR1738/images/GOPR1738_00262_fake.png'),\n",
       " PosixPath('/media/data1/donghee/winter_VFP290K/GOPR1738/images/GOPR1738_00263_fake.png')]"
      ]
     },
     "execution_count": 17,
     "metadata": {},
     "output_type": "execute_result"
    }
   ],
   "source": [
    "files = sorted([file for ext in IMAGE_EXTENSIONS for file in path.glob('*.{}'.format(ext))])\n",
    "files"
   ]
  },
  {
   "cell_type": "code",
   "execution_count": 18,
   "id": "cf434c8a",
   "metadata": {
    "ExecuteTime": {
     "end_time": "2022-05-13T06:31:10.414070Z",
     "start_time": "2022-05-13T06:31:10.406646Z"
    }
   },
   "outputs": [
    {
     "name": "stdout",
     "output_type": "stream",
     "text": [
      "num of images:  264\n"
     ]
    }
   ],
   "source": [
    "torch_imgs = []\n",
    "N = len(files)\n",
    "print(\"num of images: \",N)\n",
    "transforms = TF.ToTensor()"
   ]
  },
  {
   "cell_type": "code",
   "execution_count": 19,
   "id": "58ef2f0a",
   "metadata": {
    "ExecuteTime": {
     "end_time": "2022-05-13T06:31:55.415193Z",
     "start_time": "2022-05-13T06:31:30.508114Z"
    }
   },
   "outputs": [],
   "source": [
    "for file in files:\n",
    "    img = Image.open(file).convert('RGB')\n",
    "    img = transforms(img)\n",
    "    torch_imgs.append(img)"
   ]
  },
  {
   "cell_type": "code",
   "execution_count": 20,
   "id": "249635ac",
   "metadata": {
    "ExecuteTime": {
     "end_time": "2022-05-13T06:32:00.262051Z",
     "start_time": "2022-05-13T06:31:55.422802Z"
    }
   },
   "outputs": [
    {
     "name": "stderr",
     "output_type": "stream",
     "text": [
      "Downloading: \"https://download.pytorch.org/models/inception_v3_google-0cc3c7bd.pth\" to /home/donghee/.cache/torch/hub/checkpoints/inception_v3_google-0cc3c7bd.pth\n",
      "100%|██████████████████████████████████████████████████████████████████| 104M/104M [00:01<00:00, 82.6MB/s]\n"
     ]
    },
    {
     "ename": "RuntimeError",
     "evalue": "Expected 4-dimensional input for 4-dimensional weight [32, 3, 3, 3], but got 3-dimensional input of size [3, 1080, 1920] instead",
     "output_type": "error",
     "traceback": [
      "\u001b[0;31m---------------------------------------------------------------------------\u001b[0m",
      "\u001b[0;31mRuntimeError\u001b[0m                              Traceback (most recent call last)",
      "Input \u001b[0;32mIn [20]\u001b[0m, in \u001b[0;36m<cell line: 1>\u001b[0;34m()\u001b[0m\n\u001b[0;32m----> 1\u001b[0m n_IS_val \u001b[38;5;241m=\u001b[39m \u001b[43mIS\u001b[49m\u001b[38;5;241;43m.\u001b[39;49m\u001b[43minception_score\u001b[49m\u001b[43m(\u001b[49m\u001b[43mtorch_imgs\u001b[49m\u001b[43m,\u001b[49m\u001b[43m \u001b[49m\u001b[43mN\u001b[49m\u001b[43m,\u001b[49m\u001b[43m \u001b[49m\u001b[38;5;241;43m1\u001b[39;49m\u001b[43m)\u001b[49m\n",
      "File \u001b[0;32m~/cyclegan/pytorch-CycleGAN-and-pix2pix/IS.py:16\u001b[0m, in \u001b[0;36minception_score\u001b[0;34m(gene_imgs, N, bs, use_resize, splits)\u001b[0m\n\u001b[1;32m     14\u001b[0m     gene_img \u001b[38;5;241m=\u001b[39m gene_img\u001b[38;5;241m.\u001b[39mcuda()\n\u001b[1;32m     15\u001b[0m     \u001b[38;5;28;01mif\u001b[39;00m use_resize: gene_img \u001b[38;5;241m=\u001b[39m up(gene_img)\n\u001b[0;32m---> 16\u001b[0m     pred \u001b[38;5;241m=\u001b[39m F\u001b[38;5;241m.\u001b[39msoftmax(\u001b[43minception_model\u001b[49m\u001b[43m(\u001b[49m\u001b[43mgene_img\u001b[49m\u001b[43m)\u001b[49m)\u001b[38;5;241m.\u001b[39mdata\u001b[38;5;241m.\u001b[39mcpu()\u001b[38;5;241m.\u001b[39mnumpy()\n\u001b[1;32m     17\u001b[0m     preds[i \u001b[38;5;241m*\u001b[39m bs : (i\u001b[38;5;241m+\u001b[39m\u001b[38;5;241m1\u001b[39m) \u001b[38;5;241m*\u001b[39m bs] \u001b[38;5;241m=\u001b[39m pred\n\u001b[1;32m     18\u001b[0m split_scores \u001b[38;5;241m=\u001b[39m []\n",
      "File \u001b[0;32m~/anaconda3/envs/cyclegan/lib/python3.8/site-packages/torch/nn/modules/module.py:1102\u001b[0m, in \u001b[0;36mModule._call_impl\u001b[0;34m(self, *input, **kwargs)\u001b[0m\n\u001b[1;32m   1098\u001b[0m \u001b[38;5;66;03m# If we don't have any hooks, we want to skip the rest of the logic in\u001b[39;00m\n\u001b[1;32m   1099\u001b[0m \u001b[38;5;66;03m# this function, and just call forward.\u001b[39;00m\n\u001b[1;32m   1100\u001b[0m \u001b[38;5;28;01mif\u001b[39;00m \u001b[38;5;129;01mnot\u001b[39;00m (\u001b[38;5;28mself\u001b[39m\u001b[38;5;241m.\u001b[39m_backward_hooks \u001b[38;5;129;01mor\u001b[39;00m \u001b[38;5;28mself\u001b[39m\u001b[38;5;241m.\u001b[39m_forward_hooks \u001b[38;5;129;01mor\u001b[39;00m \u001b[38;5;28mself\u001b[39m\u001b[38;5;241m.\u001b[39m_forward_pre_hooks \u001b[38;5;129;01mor\u001b[39;00m _global_backward_hooks\n\u001b[1;32m   1101\u001b[0m         \u001b[38;5;129;01mor\u001b[39;00m _global_forward_hooks \u001b[38;5;129;01mor\u001b[39;00m _global_forward_pre_hooks):\n\u001b[0;32m-> 1102\u001b[0m     \u001b[38;5;28;01mreturn\u001b[39;00m \u001b[43mforward_call\u001b[49m\u001b[43m(\u001b[49m\u001b[38;5;241;43m*\u001b[39;49m\u001b[38;5;28;43minput\u001b[39;49m\u001b[43m,\u001b[49m\u001b[43m \u001b[49m\u001b[38;5;241;43m*\u001b[39;49m\u001b[38;5;241;43m*\u001b[39;49m\u001b[43mkwargs\u001b[49m\u001b[43m)\u001b[49m\n\u001b[1;32m   1103\u001b[0m \u001b[38;5;66;03m# Do not call functions when jit is used\u001b[39;00m\n\u001b[1;32m   1104\u001b[0m full_backward_hooks, non_full_backward_hooks \u001b[38;5;241m=\u001b[39m [], []\n",
      "File \u001b[0;32m~/anaconda3/envs/cyclegan/lib/python3.8/site-packages/torchvision/models/inception.py:200\u001b[0m, in \u001b[0;36mInception3.forward\u001b[0;34m(self, x)\u001b[0m\n\u001b[1;32m    198\u001b[0m \u001b[38;5;28;01mdef\u001b[39;00m \u001b[38;5;21mforward\u001b[39m(\u001b[38;5;28mself\u001b[39m, x: Tensor) \u001b[38;5;241m-\u001b[39m\u001b[38;5;241m>\u001b[39m InceptionOutputs:\n\u001b[1;32m    199\u001b[0m     x \u001b[38;5;241m=\u001b[39m \u001b[38;5;28mself\u001b[39m\u001b[38;5;241m.\u001b[39m_transform_input(x)\n\u001b[0;32m--> 200\u001b[0m     x, aux \u001b[38;5;241m=\u001b[39m \u001b[38;5;28;43mself\u001b[39;49m\u001b[38;5;241;43m.\u001b[39;49m\u001b[43m_forward\u001b[49m\u001b[43m(\u001b[49m\u001b[43mx\u001b[49m\u001b[43m)\u001b[49m\n\u001b[1;32m    201\u001b[0m     aux_defined \u001b[38;5;241m=\u001b[39m \u001b[38;5;28mself\u001b[39m\u001b[38;5;241m.\u001b[39mtraining \u001b[38;5;129;01mand\u001b[39;00m \u001b[38;5;28mself\u001b[39m\u001b[38;5;241m.\u001b[39maux_logits\n\u001b[1;32m    202\u001b[0m     \u001b[38;5;28;01mif\u001b[39;00m torch\u001b[38;5;241m.\u001b[39mjit\u001b[38;5;241m.\u001b[39mis_scripting():\n",
      "File \u001b[0;32m~/anaconda3/envs/cyclegan/lib/python3.8/site-packages/torchvision/models/inception.py:139\u001b[0m, in \u001b[0;36mInception3._forward\u001b[0;34m(self, x)\u001b[0m\n\u001b[1;32m    137\u001b[0m \u001b[38;5;28;01mdef\u001b[39;00m \u001b[38;5;21m_forward\u001b[39m(\u001b[38;5;28mself\u001b[39m, x: Tensor) \u001b[38;5;241m-\u001b[39m\u001b[38;5;241m>\u001b[39m Tuple[Tensor, Optional[Tensor]]:\n\u001b[1;32m    138\u001b[0m     \u001b[38;5;66;03m# N x 3 x 299 x 299\u001b[39;00m\n\u001b[0;32m--> 139\u001b[0m     x \u001b[38;5;241m=\u001b[39m \u001b[38;5;28;43mself\u001b[39;49m\u001b[38;5;241;43m.\u001b[39;49m\u001b[43mConv2d_1a_3x3\u001b[49m\u001b[43m(\u001b[49m\u001b[43mx\u001b[49m\u001b[43m)\u001b[49m\n\u001b[1;32m    140\u001b[0m     \u001b[38;5;66;03m# N x 32 x 149 x 149\u001b[39;00m\n\u001b[1;32m    141\u001b[0m     x \u001b[38;5;241m=\u001b[39m \u001b[38;5;28mself\u001b[39m\u001b[38;5;241m.\u001b[39mConv2d_2a_3x3(x)\n",
      "File \u001b[0;32m~/anaconda3/envs/cyclegan/lib/python3.8/site-packages/torch/nn/modules/module.py:1102\u001b[0m, in \u001b[0;36mModule._call_impl\u001b[0;34m(self, *input, **kwargs)\u001b[0m\n\u001b[1;32m   1098\u001b[0m \u001b[38;5;66;03m# If we don't have any hooks, we want to skip the rest of the logic in\u001b[39;00m\n\u001b[1;32m   1099\u001b[0m \u001b[38;5;66;03m# this function, and just call forward.\u001b[39;00m\n\u001b[1;32m   1100\u001b[0m \u001b[38;5;28;01mif\u001b[39;00m \u001b[38;5;129;01mnot\u001b[39;00m (\u001b[38;5;28mself\u001b[39m\u001b[38;5;241m.\u001b[39m_backward_hooks \u001b[38;5;129;01mor\u001b[39;00m \u001b[38;5;28mself\u001b[39m\u001b[38;5;241m.\u001b[39m_forward_hooks \u001b[38;5;129;01mor\u001b[39;00m \u001b[38;5;28mself\u001b[39m\u001b[38;5;241m.\u001b[39m_forward_pre_hooks \u001b[38;5;129;01mor\u001b[39;00m _global_backward_hooks\n\u001b[1;32m   1101\u001b[0m         \u001b[38;5;129;01mor\u001b[39;00m _global_forward_hooks \u001b[38;5;129;01mor\u001b[39;00m _global_forward_pre_hooks):\n\u001b[0;32m-> 1102\u001b[0m     \u001b[38;5;28;01mreturn\u001b[39;00m \u001b[43mforward_call\u001b[49m\u001b[43m(\u001b[49m\u001b[38;5;241;43m*\u001b[39;49m\u001b[38;5;28;43minput\u001b[39;49m\u001b[43m,\u001b[49m\u001b[43m \u001b[49m\u001b[38;5;241;43m*\u001b[39;49m\u001b[38;5;241;43m*\u001b[39;49m\u001b[43mkwargs\u001b[49m\u001b[43m)\u001b[49m\n\u001b[1;32m   1103\u001b[0m \u001b[38;5;66;03m# Do not call functions when jit is used\u001b[39;00m\n\u001b[1;32m   1104\u001b[0m full_backward_hooks, non_full_backward_hooks \u001b[38;5;241m=\u001b[39m [], []\n",
      "File \u001b[0;32m~/anaconda3/envs/cyclegan/lib/python3.8/site-packages/torchvision/models/inception.py:472\u001b[0m, in \u001b[0;36mBasicConv2d.forward\u001b[0;34m(self, x)\u001b[0m\n\u001b[1;32m    471\u001b[0m \u001b[38;5;28;01mdef\u001b[39;00m \u001b[38;5;21mforward\u001b[39m(\u001b[38;5;28mself\u001b[39m, x: Tensor) \u001b[38;5;241m-\u001b[39m\u001b[38;5;241m>\u001b[39m Tensor:\n\u001b[0;32m--> 472\u001b[0m     x \u001b[38;5;241m=\u001b[39m \u001b[38;5;28;43mself\u001b[39;49m\u001b[38;5;241;43m.\u001b[39;49m\u001b[43mconv\u001b[49m\u001b[43m(\u001b[49m\u001b[43mx\u001b[49m\u001b[43m)\u001b[49m\n\u001b[1;32m    473\u001b[0m     x \u001b[38;5;241m=\u001b[39m \u001b[38;5;28mself\u001b[39m\u001b[38;5;241m.\u001b[39mbn(x)\n\u001b[1;32m    474\u001b[0m     \u001b[38;5;28;01mreturn\u001b[39;00m F\u001b[38;5;241m.\u001b[39mrelu(x, inplace\u001b[38;5;241m=\u001b[39m\u001b[38;5;28;01mTrue\u001b[39;00m)\n",
      "File \u001b[0;32m~/anaconda3/envs/cyclegan/lib/python3.8/site-packages/torch/nn/modules/module.py:1102\u001b[0m, in \u001b[0;36mModule._call_impl\u001b[0;34m(self, *input, **kwargs)\u001b[0m\n\u001b[1;32m   1098\u001b[0m \u001b[38;5;66;03m# If we don't have any hooks, we want to skip the rest of the logic in\u001b[39;00m\n\u001b[1;32m   1099\u001b[0m \u001b[38;5;66;03m# this function, and just call forward.\u001b[39;00m\n\u001b[1;32m   1100\u001b[0m \u001b[38;5;28;01mif\u001b[39;00m \u001b[38;5;129;01mnot\u001b[39;00m (\u001b[38;5;28mself\u001b[39m\u001b[38;5;241m.\u001b[39m_backward_hooks \u001b[38;5;129;01mor\u001b[39;00m \u001b[38;5;28mself\u001b[39m\u001b[38;5;241m.\u001b[39m_forward_hooks \u001b[38;5;129;01mor\u001b[39;00m \u001b[38;5;28mself\u001b[39m\u001b[38;5;241m.\u001b[39m_forward_pre_hooks \u001b[38;5;129;01mor\u001b[39;00m _global_backward_hooks\n\u001b[1;32m   1101\u001b[0m         \u001b[38;5;129;01mor\u001b[39;00m _global_forward_hooks \u001b[38;5;129;01mor\u001b[39;00m _global_forward_pre_hooks):\n\u001b[0;32m-> 1102\u001b[0m     \u001b[38;5;28;01mreturn\u001b[39;00m \u001b[43mforward_call\u001b[49m\u001b[43m(\u001b[49m\u001b[38;5;241;43m*\u001b[39;49m\u001b[38;5;28;43minput\u001b[39;49m\u001b[43m,\u001b[49m\u001b[43m \u001b[49m\u001b[38;5;241;43m*\u001b[39;49m\u001b[38;5;241;43m*\u001b[39;49m\u001b[43mkwargs\u001b[49m\u001b[43m)\u001b[49m\n\u001b[1;32m   1103\u001b[0m \u001b[38;5;66;03m# Do not call functions when jit is used\u001b[39;00m\n\u001b[1;32m   1104\u001b[0m full_backward_hooks, non_full_backward_hooks \u001b[38;5;241m=\u001b[39m [], []\n",
      "File \u001b[0;32m~/anaconda3/envs/cyclegan/lib/python3.8/site-packages/torch/nn/modules/conv.py:446\u001b[0m, in \u001b[0;36mConv2d.forward\u001b[0;34m(self, input)\u001b[0m\n\u001b[1;32m    445\u001b[0m \u001b[38;5;28;01mdef\u001b[39;00m \u001b[38;5;21mforward\u001b[39m(\u001b[38;5;28mself\u001b[39m, \u001b[38;5;28minput\u001b[39m: Tensor) \u001b[38;5;241m-\u001b[39m\u001b[38;5;241m>\u001b[39m Tensor:\n\u001b[0;32m--> 446\u001b[0m     \u001b[38;5;28;01mreturn\u001b[39;00m \u001b[38;5;28;43mself\u001b[39;49m\u001b[38;5;241;43m.\u001b[39;49m\u001b[43m_conv_forward\u001b[49m\u001b[43m(\u001b[49m\u001b[38;5;28;43minput\u001b[39;49m\u001b[43m,\u001b[49m\u001b[43m \u001b[49m\u001b[38;5;28;43mself\u001b[39;49m\u001b[38;5;241;43m.\u001b[39;49m\u001b[43mweight\u001b[49m\u001b[43m,\u001b[49m\u001b[43m \u001b[49m\u001b[38;5;28;43mself\u001b[39;49m\u001b[38;5;241;43m.\u001b[39;49m\u001b[43mbias\u001b[49m\u001b[43m)\u001b[49m\n",
      "File \u001b[0;32m~/anaconda3/envs/cyclegan/lib/python3.8/site-packages/torch/nn/modules/conv.py:442\u001b[0m, in \u001b[0;36mConv2d._conv_forward\u001b[0;34m(self, input, weight, bias)\u001b[0m\n\u001b[1;32m    438\u001b[0m \u001b[38;5;28;01mif\u001b[39;00m \u001b[38;5;28mself\u001b[39m\u001b[38;5;241m.\u001b[39mpadding_mode \u001b[38;5;241m!=\u001b[39m \u001b[38;5;124m'\u001b[39m\u001b[38;5;124mzeros\u001b[39m\u001b[38;5;124m'\u001b[39m:\n\u001b[1;32m    439\u001b[0m     \u001b[38;5;28;01mreturn\u001b[39;00m F\u001b[38;5;241m.\u001b[39mconv2d(F\u001b[38;5;241m.\u001b[39mpad(\u001b[38;5;28minput\u001b[39m, \u001b[38;5;28mself\u001b[39m\u001b[38;5;241m.\u001b[39m_reversed_padding_repeated_twice, mode\u001b[38;5;241m=\u001b[39m\u001b[38;5;28mself\u001b[39m\u001b[38;5;241m.\u001b[39mpadding_mode),\n\u001b[1;32m    440\u001b[0m                     weight, bias, \u001b[38;5;28mself\u001b[39m\u001b[38;5;241m.\u001b[39mstride,\n\u001b[1;32m    441\u001b[0m                     _pair(\u001b[38;5;241m0\u001b[39m), \u001b[38;5;28mself\u001b[39m\u001b[38;5;241m.\u001b[39mdilation, \u001b[38;5;28mself\u001b[39m\u001b[38;5;241m.\u001b[39mgroups)\n\u001b[0;32m--> 442\u001b[0m \u001b[38;5;28;01mreturn\u001b[39;00m \u001b[43mF\u001b[49m\u001b[38;5;241;43m.\u001b[39;49m\u001b[43mconv2d\u001b[49m\u001b[43m(\u001b[49m\u001b[38;5;28;43minput\u001b[39;49m\u001b[43m,\u001b[49m\u001b[43m \u001b[49m\u001b[43mweight\u001b[49m\u001b[43m,\u001b[49m\u001b[43m \u001b[49m\u001b[43mbias\u001b[49m\u001b[43m,\u001b[49m\u001b[43m \u001b[49m\u001b[38;5;28;43mself\u001b[39;49m\u001b[38;5;241;43m.\u001b[39;49m\u001b[43mstride\u001b[49m\u001b[43m,\u001b[49m\n\u001b[1;32m    443\u001b[0m \u001b[43m                \u001b[49m\u001b[38;5;28;43mself\u001b[39;49m\u001b[38;5;241;43m.\u001b[39;49m\u001b[43mpadding\u001b[49m\u001b[43m,\u001b[49m\u001b[43m \u001b[49m\u001b[38;5;28;43mself\u001b[39;49m\u001b[38;5;241;43m.\u001b[39;49m\u001b[43mdilation\u001b[49m\u001b[43m,\u001b[49m\u001b[43m \u001b[49m\u001b[38;5;28;43mself\u001b[39;49m\u001b[38;5;241;43m.\u001b[39;49m\u001b[43mgroups\u001b[49m\u001b[43m)\u001b[49m\n",
      "\u001b[0;31mRuntimeError\u001b[0m: Expected 4-dimensional input for 4-dimensional weight [32, 3, 3, 3], but got 3-dimensional input of size [3, 1080, 1920] instead"
     ]
    }
   ],
   "source": [
    "n_IS_val = IS.inception_score(torch_imgs, N, 1)"
   ]
  },
  {
   "cell_type": "code",
   "execution_count": null,
   "id": "ac9481bc",
   "metadata": {},
   "outputs": [],
   "source": [
    "print(f'Inception score: {n_IS_val[0]} std: {n_IS_val[1]}')"
   ]
  },
  {
   "cell_type": "code",
   "execution_count": null,
   "id": "6ecc6630",
   "metadata": {},
   "outputs": [],
   "source": [
    "def main():\n",
    "    args = parser.parse_args()\n",
    "\n",
    "\n",
    "    path = pathlib.Path(args.path[0])\n",
    "    files = sorted([file for ext in IMAGE_EXTENSIONS for file in path.glob('*.{}'.format(ext))])\n",
    "    torch_imgs = []\n",
    "    N = len(files)\n",
    "    transforms = TF.ToTensor()\n",
    "    for file, file2 in zip(files,files2):\n",
    "        img = Image.open(file).convert('RGB')\n",
    "        img = transforms(img)\n",
    "        torch_imgs.append(img)\n",
    "\n",
    "    \n",
    "    ############## IS score ##############\n",
    "    n_IS_val = IS.inception_score(torch_imgs, N, 1)\n",
    "\n",
    "    print(f'Inception score: {n_IS_val[0]} std: {n_IS_val[1]}')\n",
    "\n",
    "if __name__ == '__main__':\n",
    "    main()"
   ]
  }
 ],
 "metadata": {
  "kernelspec": {
   "display_name": "Python 3 (ipykernel)",
   "language": "python",
   "name": "python3"
  },
  "language_info": {
   "codemirror_mode": {
    "name": "ipython",
    "version": 3
   },
   "file_extension": ".py",
   "mimetype": "text/x-python",
   "name": "python",
   "nbconvert_exporter": "python",
   "pygments_lexer": "ipython3",
   "version": "3.8.13"
  },
  "toc": {
   "base_numbering": 1,
   "nav_menu": {},
   "number_sections": true,
   "sideBar": true,
   "skip_h1_title": false,
   "title_cell": "Table of Contents",
   "title_sidebar": "Contents",
   "toc_cell": false,
   "toc_position": {},
   "toc_section_display": true,
   "toc_window_display": false
  }
 },
 "nbformat": 4,
 "nbformat_minor": 5
}
